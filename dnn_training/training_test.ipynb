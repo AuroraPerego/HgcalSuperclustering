{
 "cells": [
  {
   "cell_type": "code",
   "execution_count": 1,
   "metadata": {},
   "outputs": [],
   "source": [
    "%load_ext autoreload\n",
    "%autoreload 2\n",
    "import sys\n",
    "sys.path.append(\"..\")\n",
    "import torch\n",
    "from dnn_training.dataset_ak import *\n",
    "from dnn_training.dataset_torch import *\n",
    "import numpy as np\n",
    "from dnn_training.trainer import *\n",
    "import awkward as ak"
   ]
  },
  {
   "cell_type": "code",
   "execution_count": 2,
   "metadata": {},
   "outputs": [],
   "source": [
    "device = \"cuda:1\""
   ]
  },
  {
   "cell_type": "code",
   "execution_count": 3,
   "metadata": {},
   "outputs": [],
   "source": [
    "model, loss = makeModelLoss()\n",
    "trainer = Trainer(model.to(device), loss, device=device, log_output=\"/grid_mnt/data_cms_upgrade/cuisset/supercls/dnn_training\")"
   ]
  },
  {
   "cell_type": "code",
   "execution_count": 4,
   "metadata": {},
   "outputs": [],
   "source": [
    "train_dataset, val_dataset = makeDatasetsTrainVal(\"/grid_mnt/data_cms_upgrade/cuisset/supercls/alessandro_electrons/supercls-v13/superclsDumper_1.root\", device=\"cpu\")"
   ]
  },
  {
   "cell_type": "code",
   "execution_count": null,
   "metadata": {},
   "outputs": [],
   "source": []
  },
  {
   "cell_type": "code",
   "execution_count": 10,
   "metadata": {},
   "outputs": [
    {
     "data": {
      "application/vnd.jupyter.widget-view+json": {
       "model_id": "7e90542f81124604815b0c9be0ce911f",
       "version_major": 2,
       "version_minor": 0
      },
      "text/plain": [
       "  0%|          | 0/5 [00:00<?, ?it/s]"
      ]
     },
     "metadata": {},
     "output_type": "display_data"
    },
    {
     "name": "stdout",
     "output_type": "stream",
     "text": [
      "train_loss = 0.30187917076546\n",
      "val_loss = 0.010887423530220985\n",
      "train_loss = 0.30434493648499483\n",
      "val_loss = 0.011025166371837258\n",
      "train_loss = 0.28661539388122037\n",
      "val_loss = 0.010727119981311262\n",
      "train_loss = 0.3006898802414071\n",
      "val_loss = 0.013658439042046666\n",
      "train_loss = 0.2873406008075108\n",
      "val_loss = 0.0105202526319772\n"
     ]
    }
   ],
   "source": [
    "trainer.full_train(train_dataset, val_dataset, nepochs=5)"
   ]
  },
  {
   "cell_type": "code",
   "execution_count": 6,
   "metadata": {},
   "outputs": [
    {
     "data": {
      "text/plain": [
       "[0.001]"
      ]
     },
     "execution_count": 6,
     "metadata": {},
     "output_type": "execute_result"
    }
   ],
   "source": [
    "trainer.scheduler.get_last_lr()"
   ]
  },
  {
   "cell_type": "code",
   "execution_count": 11,
   "metadata": {},
   "outputs": [],
   "source": [
    "import torch.onnx"
   ]
  },
  {
   "cell_type": "code",
   "execution_count": 27,
   "metadata": {},
   "outputs": [
    {
     "data": {
      "text/plain": [
       "torch.float32"
      ]
     },
     "execution_count": 27,
     "metadata": {},
     "output_type": "execute_result"
    }
   ],
   "source": [
    "train_dataset[0:2][\"features\"][0].dtype"
   ]
  },
  {
   "cell_type": "code",
   "execution_count": 28,
   "metadata": {},
   "outputs": [
    {
     "data": {
      "text/plain": [
       "torch.float32"
      ]
     },
     "execution_count": 28,
     "metadata": {},
     "output_type": "execute_result"
    }
   ],
   "source": [
    "torch.ones((1, 17)).dtype"
   ]
  },
  {
   "cell_type": "code",
   "execution_count": 22,
   "metadata": {},
   "outputs": [
    {
     "name": "stdout",
     "output_type": "stream",
     "text": [
      "Exported graph: graph(%input : Float(*, 17, strides=[17, 1], requires_grad=0, device=cpu),\n",
      "      %0.weight : Float(100, 17, strides=[17, 1], requires_grad=1, device=cpu),\n",
      "      %0.bias : Float(100, strides=[1], requires_grad=1, device=cpu),\n",
      "      %2.weight : Float(200, 100, strides=[100, 1], requires_grad=1, device=cpu),\n",
      "      %2.bias : Float(200, strides=[1], requires_grad=1, device=cpu),\n",
      "      %4.weight : Float(100, 200, strides=[200, 1], requires_grad=1, device=cpu),\n",
      "      %4.bias : Float(100, strides=[1], requires_grad=1, device=cpu),\n",
      "      %6.weight : Float(1, 100, strides=[100, 1], requires_grad=1, device=cpu),\n",
      "      %6.bias : Float(1, strides=[1], requires_grad=1, device=cpu)):\n",
      "  %/0/Gemm_output_0 : Float(*, 100, strides=[100, 1], requires_grad=1, device=cpu) = onnx::Gemm[alpha=1., beta=1., transB=1, onnx_name=\"/0/Gemm\"](%input, %0.weight, %0.bias), scope: torch.nn.modules.container.Sequential::/torch.nn.modules.linear.Linear::0 # /grid_mnt/data_cms_upgrade/cuisset/conda/envs/ticlRegression-gpu/lib/python3.11/site-packages/torch/nn/modules/linear.py:116:0\n",
      "  %/1/Relu_output_0 : Float(*, 100, strides=[100, 1], requires_grad=1, device=cpu) = onnx::Relu[onnx_name=\"/1/Relu\"](%/0/Gemm_output_0), scope: torch.nn.modules.container.Sequential::/torch.nn.modules.activation.ReLU::1 # /grid_mnt/data_cms_upgrade/cuisset/conda/envs/ticlRegression-gpu/lib/python3.11/site-packages/torch/nn/functional.py:1473:0\n",
      "  %/2/Gemm_output_0 : Float(*, 200, strides=[200, 1], requires_grad=1, device=cpu) = onnx::Gemm[alpha=1., beta=1., transB=1, onnx_name=\"/2/Gemm\"](%/1/Relu_output_0, %2.weight, %2.bias), scope: torch.nn.modules.container.Sequential::/torch.nn.modules.linear.Linear::2 # /grid_mnt/data_cms_upgrade/cuisset/conda/envs/ticlRegression-gpu/lib/python3.11/site-packages/torch/nn/modules/linear.py:116:0\n",
      "  %/3/Relu_output_0 : Float(*, 200, strides=[200, 1], requires_grad=1, device=cpu) = onnx::Relu[onnx_name=\"/3/Relu\"](%/2/Gemm_output_0), scope: torch.nn.modules.container.Sequential::/torch.nn.modules.activation.ReLU::3 # /grid_mnt/data_cms_upgrade/cuisset/conda/envs/ticlRegression-gpu/lib/python3.11/site-packages/torch/nn/functional.py:1473:0\n",
      "  %/4/Gemm_output_0 : Float(*, 100, strides=[100, 1], requires_grad=1, device=cpu) = onnx::Gemm[alpha=1., beta=1., transB=1, onnx_name=\"/4/Gemm\"](%/3/Relu_output_0, %4.weight, %4.bias), scope: torch.nn.modules.container.Sequential::/torch.nn.modules.linear.Linear::4 # /grid_mnt/data_cms_upgrade/cuisset/conda/envs/ticlRegression-gpu/lib/python3.11/site-packages/torch/nn/modules/linear.py:116:0\n",
      "  %/5/Relu_output_0 : Float(*, 100, strides=[100, 1], requires_grad=1, device=cpu) = onnx::Relu[onnx_name=\"/5/Relu\"](%/4/Gemm_output_0), scope: torch.nn.modules.container.Sequential::/torch.nn.modules.activation.ReLU::5 # /grid_mnt/data_cms_upgrade/cuisset/conda/envs/ticlRegression-gpu/lib/python3.11/site-packages/torch/nn/functional.py:1473:0\n",
      "  %/6/Gemm_output_0 : Float(*, 1, strides=[1, 1], requires_grad=1, device=cpu) = onnx::Gemm[alpha=1., beta=1., transB=1, onnx_name=\"/6/Gemm\"](%/5/Relu_output_0, %6.weight, %6.bias), scope: torch.nn.modules.container.Sequential::/torch.nn.modules.linear.Linear::6 # /grid_mnt/data_cms_upgrade/cuisset/conda/envs/ticlRegression-gpu/lib/python3.11/site-packages/torch/nn/modules/linear.py:116:0\n",
      "  %output : Float(*, 1, strides=[1, 1], requires_grad=1, device=cpu) = onnx::Sigmoid[onnx_name=\"/7/Sigmoid\"](%/6/Gemm_output_0), scope: torch.nn.modules.container.Sequential::/torch.nn.modules.activation.Sigmoid::7 # /grid_mnt/data_cms_upgrade/cuisset/conda/envs/ticlRegression-gpu/lib/python3.11/site-packages/torch/nn/modules/activation.py:292:0\n",
      "  return (%output)\n",
      "\n"
     ]
    }
   ],
   "source": [
    "model.to(\"cpu\")\n",
    "\n",
    "torch.onnx.export(\n",
    "    model,\n",
    "    train_dataset[0:2][\"features\"][0].to(\"cpu\"),\n",
    "    \"model.onnx\",\n",
    "    export_params=True,\n",
    "    verbose=True,\n",
    "    input_names=[\"input\"],\n",
    "    output_names=[\"output\"],\n",
    "    opset_version=10,\n",
    "    dynamic_axes={\"input\" : {0:\"batch_size\"}, \"output\": {0:\"batch_size\"}}\n",
    ")"
   ]
  }
 ],
 "metadata": {
  "kernelspec": {
   "display_name": "ticlRegression-gpu",
   "language": "python",
   "name": "python3"
  },
  "language_info": {
   "codemirror_mode": {
    "name": "ipython",
    "version": 3
   },
   "file_extension": ".py",
   "mimetype": "text/x-python",
   "name": "python",
   "nbconvert_exporter": "python",
   "pygments_lexer": "ipython3",
   "version": "3.11.6"
  }
 },
 "nbformat": 4,
 "nbformat_minor": 2
}
