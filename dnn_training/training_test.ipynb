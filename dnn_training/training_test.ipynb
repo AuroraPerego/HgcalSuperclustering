{
 "cells": [
  {
   "cell_type": "code",
   "execution_count": 1,
   "metadata": {},
   "outputs": [],
   "source": [
    "%load_ext autoreload\n",
    "%autoreload 2\n",
    "import sys\n",
    "sys.path.append(\"..\")\n",
    "import torch\n",
    "from dnn_training.dataset import *\n",
    "import numpy as np\n",
    "from dnn_training.trainer import *\n",
    "import awkward as ak"
   ]
  },
  {
   "cell_type": "code",
   "execution_count": 6,
   "metadata": {},
   "outputs": [],
   "source": [
    "device=\"cuda:1\"\n",
    "model = makeModel()\n",
    "loss = BinaryLoss()\n",
    "trainer = Trainer(model.to(device), loss=loss, device=device, log_output=\"/grid_mnt/data_cms_upgrade/cuisset/supercls/dnn_training/test\")\n",
    "datasets_binary = makeDatasetsTrainVal_fromCache(\"/grid_mnt/data_cms_upgrade/cuisset/supercls/alessandro_electrons/supercls-v15-sampleDump/superclsDumper_*.root\", device_valDataset=device)\n",
    "datasets_continuous = makeDatasetsTrainVal_fromCache(\"/grid_mnt/data_cms_upgrade/cuisset/supercls/alessandro_electrons/supercls-v15-sampleDump/superclsDumper_*.root\", device_valDataset=device, trainingLossType=\"continuousAssociationScore\")"
   ]
  },
  {
   "cell_type": "code",
   "execution_count": 11,
   "metadata": {},
   "outputs": [
    {
     "data": {
      "text/plain": [
       "tensor([226.0455, 377.6656, 215.2264,  ..., 318.1190,  64.6889, 235.1924])"
      ]
     },
     "execution_count": 11,
     "metadata": {},
     "output_type": "execute_result"
    }
   ],
   "source": [
    "datasets_binary[\"valDataset\"][\"seedEnergy_perEvent\"]"
   ]
  },
  {
   "cell_type": "code",
   "execution_count": 4,
   "metadata": {},
   "outputs": [
    {
     "data": {
      "text/plain": [
       "tensor([4, 3])"
      ]
     },
     "execution_count": 4,
     "metadata": {},
     "output_type": "execute_result"
    }
   ],
   "source": [
    "weighted_val_indices = torch.tensor(list(WeightedRandomSampler([1, 2, 3, 4, 5], 2, replacement=True)))\n",
    "weighted_val_indices"
   ]
  },
  {
   "cell_type": "code",
   "execution_count": 5,
   "metadata": {},
   "outputs": [
    {
     "data": {
      "text/plain": [
       "tensor([[ 2.2780e-02,  1.4527e+00,  8.7256e+00,  ...,  3.9218e-01,\n",
       "          1.5403e+01,  9.7217e-01],\n",
       "        [-5.7643e-02,  4.5052e-01,  4.4632e+00,  ...,  1.4441e-01,\n",
       "          1.9119e+01,  9.3179e-01],\n",
       "        [ 1.1926e-01,  6.6634e-02,  5.9421e+00,  ...,  7.5706e-02,\n",
       "          1.6931e+01,  9.7667e-01],\n",
       "        ...,\n",
       "        [ 1.2865e-02, -3.3939e+00,  2.6543e+00,  ...,  2.5400e-01,\n",
       "          1.6913e+01,  9.1402e-01],\n",
       "        [ 8.7223e-02,  1.2628e+00,  2.4664e+00,  ...,  1.9005e-01,\n",
       "          1.5394e+01,  9.8801e-01],\n",
       "        [ 1.1684e-01,  1.3013e+00,  1.9700e+00,  ...,  2.6743e-01,\n",
       "          1.9028e+01,  9.3996e-01]])"
      ]
     },
     "execution_count": 5,
     "metadata": {},
     "output_type": "execute_result"
    }
   ],
   "source": [
    "datasets_binary[\"valDataset\"][\"features\"]"
   ]
  },
  {
   "cell_type": "code",
   "execution_count": 6,
   "metadata": {},
   "outputs": [
    {
     "data": {
      "text/plain": [
       "tensor([[-5.9391e-02,  1.5638e+00,  3.5737e+00,  1.6228e+00,  1.3577e+00,\n",
       "          1.6822e+00, -1.7609e+00,  2.2605e+02,  8.5876e+01,  2.5343e-01,\n",
       "          7.7267e-01,  7.7267e-01,  5.6504e-01,  9.8422e-02,  2.5585e-01,\n",
       "          1.3927e+01,  9.7030e-01],\n",
       "        [ 8.1895e-02,  2.3290e-01,  4.5126e+00,  1.7641e+00,  1.5023e+00,\n",
       "          1.6822e+00, -1.7609e+00,  2.2605e+02,  7.5256e+01,  1.1014e-01,\n",
       "          7.2830e-01,  7.2830e-01,  2.9245e-01,  3.5116e-02,  1.1165e-01,\n",
       "          2.2821e+01,  9.9193e-01]])"
      ]
     },
     "execution_count": 6,
     "metadata": {},
     "output_type": "execute_result"
    }
   ],
   "source": [
    "datasets_binary[\"valDataset\"][\"features\"][weighted_val_indices]"
   ]
  },
  {
   "cell_type": "code",
   "execution_count": 7,
   "metadata": {},
   "outputs": [
    {
     "data": {
      "text/plain": [
       "array([ 16.56748009, 110.09165649, 185.76254578, 260.24767456,\n",
       "       366.69959106, 764.33905029])"
      ]
     },
     "execution_count": 7,
     "metadata": {},
     "output_type": "execute_result"
    }
   ],
   "source": [
    "def histedges_equalN(x, nbin):\n",
    "    npt = len(x)\n",
    "    return np.interp(np.linspace(0, npt, nbin + 1),\n",
    "                     np.arange(npt),\n",
    "                     np.sort(x))\n",
    "histedges_equalN(datasets_binary[\"valDataset\"][\"seedEnergy_perEvent\"], 5)"
   ]
  },
  {
   "cell_type": "code",
   "execution_count": 13,
   "metadata": {},
   "outputs": [],
   "source": [
    "val_dataset_gpu = {key : tensor.to(device) for key, tensor in datasets_binary[\"valDataset\"].items()}"
   ]
  },
  {
   "cell_type": "code",
   "execution_count": 14,
   "metadata": {},
   "outputs": [
    {
     "data": {
      "text/plain": [
       "{'features': tensor([[ 2.2780e-02,  1.4527e+00,  8.7256e+00,  ...,  3.9218e-01,\n",
       "           1.5403e+01,  9.7217e-01],\n",
       "         [-5.7643e-02,  4.5052e-01,  4.4632e+00,  ...,  1.4441e-01,\n",
       "           1.9119e+01,  9.3179e-01],\n",
       "         [ 1.1926e-01,  6.6634e-02,  5.9421e+00,  ...,  7.5706e-02,\n",
       "           1.6931e+01,  9.7667e-01],\n",
       "         ...,\n",
       "         [ 1.2865e-02, -3.3939e+00,  2.6543e+00,  ...,  2.5400e-01,\n",
       "           1.6913e+01,  9.1402e-01],\n",
       "         [ 8.7223e-02,  1.2628e+00,  2.4664e+00,  ...,  1.9005e-01,\n",
       "           1.5394e+01,  9.8801e-01],\n",
       "         [ 1.1684e-01,  1.3013e+00,  1.9700e+00,  ...,  2.6743e-01,\n",
       "           1.9028e+01,  9.3996e-01]], device='cuda:1'),\n",
       " 'genmatching': tensor([0., 0., 0.,  ..., 0., 0., 0.], device='cuda:1'),\n",
       " 'assocScore_training': tensor([1.0000, 1.0000, 0.9999,  ..., 1.0000, 1.0000, 1.0000], device='cuda:1'),\n",
       " 'seedTracksterBestAssociationScore': tensor([0.0002, 0.0002, 0.0002,  ..., 0.0004, 0.0004, 0.0004], device='cuda:1'),\n",
       " 'candidateTracksterAssociationWithSeed_score': tensor([1.0000, 1.0000, 0.9999,  ..., 1.0000, 1.0000, 1.0000], device='cuda:1'),\n",
       " 'caloParticleEnergy_perEvent': tensor([232.4071, 405.5810, 229.8098,  ..., 326.9508,  72.8537, 239.7212],\n",
       "        device='cuda:1'),\n",
       " 'seedEnergy_perEvent': tensor([226.0455, 377.6656, 215.2264,  ..., 318.1190,  64.6889, 235.1924],\n",
       "        device='cuda:1'),\n",
       " 'eventIndex': tensor([   0,    0,    0,  ..., 7162, 7162, 7162], device='cuda:1')}"
      ]
     },
     "execution_count": 14,
     "metadata": {},
     "output_type": "execute_result"
    }
   ],
   "source": [
    "val_dataset_gpu"
   ]
  },
  {
   "cell_type": "code",
   "execution_count": 10,
   "metadata": {},
   "outputs": [],
   "source": [
    "import optuna"
   ]
  },
  {
   "cell_type": "code",
   "execution_count": 9,
   "metadata": {},
   "outputs": [
    {
     "data": {
      "application/vnd.jupyter.widget-view+json": {
       "model_id": "c1a6b36738a740afb2cb5b965bbf9a02",
       "version_major": 2,
       "version_minor": 0
      },
      "text/plain": [
       "  0%|          | 0/15 [00:00<?, ?it/s]"
      ]
     },
     "metadata": {},
     "output_type": "display_data"
    },
    {
     "name": "stdout",
     "output_type": "stream",
     "text": [
      "train_loss = 0.07459397972232915\n",
      "val_loss = 0.10559932887554169\n",
      "train_loss = 0.07292086761233091\n",
      "val_loss = 0.09296827018260956\n",
      "train_loss = 0.07167070469212586\n",
      "val_loss = 0.09713432192802429\n",
      "train_loss = 0.07051104404166235\n",
      "val_loss = 0.08664406090974808\n",
      "train_loss = 0.06964493629581292\n",
      "val_loss = 0.10447023808956146\n",
      "train_loss = 0.06853648419796278\n",
      "val_loss = 0.10663112998008728\n",
      "train_loss = 0.06803990680916154\n",
      "val_loss = 0.09349510818719864\n",
      "train_loss = 0.0671719534018716\n",
      "val_loss = 0.09372750669717789\n",
      "train_loss = 0.06669555090037405\n",
      "val_loss = 0.09271429479122162\n",
      "train_loss = 0.06622156195675916\n",
      "val_loss = 0.09756290167570114\n",
      "train_loss = 0.06587322131462552\n",
      "val_loss = 0.09583238512277603\n",
      "train_loss = 0.06533828528707931\n",
      "val_loss = 0.09308748692274094\n",
      "train_loss = 0.06507281476881709\n",
      "val_loss = 0.08940528333187103\n",
      "train_loss = 0.06500072271600447\n",
      "val_loss = 0.0952853262424469\n",
      "train_loss = 0.06436894056211796\n",
      "val_loss = 0.0894392877817154\n",
      "Exported graph: graph(%input : Float(*, 17, strides=[17, 1], requires_grad=0, device=cuda:1),\n",
      "      %0.scaler_scale : Float(17, strides=[1], requires_grad=0, device=cuda:1),\n",
      "      %0.scaler_min : Float(17, strides=[1], requires_grad=0, device=cuda:1),\n",
      "      %1.weight : Float(100, 17, strides=[17, 1], requires_grad=1, device=cuda:1),\n",
      "      %1.bias : Float(100, strides=[1], requires_grad=1, device=cuda:1),\n",
      "      %4.weight : Float(200, 100, strides=[100, 1], requires_grad=1, device=cuda:1),\n",
      "      %4.bias : Float(200, strides=[1], requires_grad=1, device=cuda:1),\n",
      "      %7.weight : Float(100, 200, strides=[200, 1], requires_grad=1, device=cuda:1),\n",
      "      %7.bias : Float(100, strides=[1], requires_grad=1, device=cuda:1),\n",
      "      %10.weight : Float(1, 100, strides=[100, 1], requires_grad=1, device=cuda:1),\n",
      "      %10.bias : Float(1, strides=[1], requires_grad=1, device=cuda:1)):\n",
      "  %/0/Mul_output_0 : Float(*, 17, strides=[17, 1], requires_grad=0, device=cuda:1) = onnx::Mul[onnx_name=\"/0/Mul\"](%input, %0.scaler_scale), scope: torch.nn.modules.container.Sequential::/dnn_training.trainer.FeatureScaler::0 # /grid_mnt/vol_home/llr/cms/cuisset/hgcal/supercls/repoForJobs/dnn_training/../dnn_training/trainer.py:73:0\n",
      "  %/0/Add_output_0 : Float(*, 17, strides=[17, 1], requires_grad=0, device=cuda:1) = onnx::Add[onnx_name=\"/0/Add\"](%/0/Mul_output_0, %0.scaler_min), scope: torch.nn.modules.container.Sequential::/dnn_training.trainer.FeatureScaler::0 # /grid_mnt/vol_home/llr/cms/cuisset/hgcal/supercls/repoForJobs/dnn_training/../dnn_training/trainer.py:73:0\n",
      "  %/1/Gemm_output_0 : Float(*, 100, strides=[100, 1], requires_grad=1, device=cuda:1) = onnx::Gemm[alpha=1., beta=1., transB=1, onnx_name=\"/1/Gemm\"](%/0/Add_output_0, %1.weight, %1.bias), scope: torch.nn.modules.container.Sequential::/torch.nn.modules.linear.Linear::1 # /grid_mnt/data_cms_upgrade/cuisset/conda/envs/ticlRegression-gpu/lib/python3.11/site-packages/torch/nn/modules/linear.py:116:0\n",
      "  %/2/Relu_output_0 : Float(*, 100, strides=[100, 1], requires_grad=1, device=cuda:1) = onnx::Relu[onnx_name=\"/2/Relu\"](%/1/Gemm_output_0), scope: torch.nn.modules.container.Sequential::/torch.nn.modules.activation.ReLU::2 # /grid_mnt/data_cms_upgrade/cuisset/conda/envs/ticlRegression-gpu/lib/python3.11/site-packages/torch/nn/functional.py:1473:0\n",
      "  %/4/Gemm_output_0 : Float(*, 200, strides=[200, 1], requires_grad=1, device=cuda:1) = onnx::Gemm[alpha=1., beta=1., transB=1, onnx_name=\"/4/Gemm\"](%/2/Relu_output_0, %4.weight, %4.bias), scope: torch.nn.modules.container.Sequential::/torch.nn.modules.linear.Linear::4 # /grid_mnt/data_cms_upgrade/cuisset/conda/envs/ticlRegression-gpu/lib/python3.11/site-packages/torch/nn/modules/linear.py:116:0\n",
      "  %/5/Relu_output_0 : Float(*, 200, strides=[200, 1], requires_grad=1, device=cuda:1) = onnx::Relu[onnx_name=\"/5/Relu\"](%/4/Gemm_output_0), scope: torch.nn.modules.container.Sequential::/torch.nn.modules.activation.ReLU::5 # /grid_mnt/data_cms_upgrade/cuisset/conda/envs/ticlRegression-gpu/lib/python3.11/site-packages/torch/nn/functional.py:1473:0\n",
      "  %/7/Gemm_output_0 : Float(*, 100, strides=[100, 1], requires_grad=1, device=cuda:1) = onnx::Gemm[alpha=1., beta=1., transB=1, onnx_name=\"/7/Gemm\"](%/5/Relu_output_0, %7.weight, %7.bias), scope: torch.nn.modules.container.Sequential::/torch.nn.modules.linear.Linear::7 # /grid_mnt/data_cms_upgrade/cuisset/conda/envs/ticlRegression-gpu/lib/python3.11/site-packages/torch/nn/modules/linear.py:116:0\n",
      "  %/8/Relu_output_0 : Float(*, 100, strides=[100, 1], requires_grad=1, device=cuda:1) = onnx::Relu[onnx_name=\"/8/Relu\"](%/7/Gemm_output_0), scope: torch.nn.modules.container.Sequential::/torch.nn.modules.activation.ReLU::8 # /grid_mnt/data_cms_upgrade/cuisset/conda/envs/ticlRegression-gpu/lib/python3.11/site-packages/torch/nn/functional.py:1473:0\n",
      "  %/10/Gemm_output_0 : Float(*, 1, strides=[1, 1], requires_grad=1, device=cuda:1) = onnx::Gemm[alpha=1., beta=1., transB=1, onnx_name=\"/10/Gemm\"](%/8/Relu_output_0, %10.weight, %10.bias), scope: torch.nn.modules.container.Sequential::/torch.nn.modules.linear.Linear::10 # /grid_mnt/data_cms_upgrade/cuisset/conda/envs/ticlRegression-gpu/lib/python3.11/site-packages/torch/nn/modules/linear.py:116:0\n",
      "  %output : Float(*, 1, strides=[1, 1], requires_grad=1, device=cuda:1) = onnx::Sigmoid[onnx_name=\"/11/Sigmoid\"](%/10/Gemm_output_0), scope: torch.nn.modules.container.Sequential::/torch.nn.modules.activation.Sigmoid::11 # /grid_mnt/data_cms_upgrade/cuisset/conda/envs/ticlRegression-gpu/lib/python3.11/site-packages/torch/nn/modules/activation.py:292:0\n",
      "  return (%output)\n",
      "\n"
     ]
    }
   ],
   "source": [
    "\n",
    "trainer.full_train(datasets_binary[\"trainDataset\"], datasets_binary[\"valDataset\"], weightSamples=True, nepochs=15, batch_size=512)"
   ]
  },
  {
   "cell_type": "code",
   "execution_count": null,
   "metadata": {},
   "outputs": [],
   "source": []
  },
  {
   "cell_type": "code",
   "execution_count": 31,
   "metadata": {},
   "outputs": [
    {
     "data": {
      "application/vnd.jupyter.widget-view+json": {
       "model_id": "08d6b9e08b8a48828d6448de0de4c94f",
       "version_major": 2,
       "version_minor": 0
      },
      "text/plain": [
       "  0%|          | 0/10 [00:00<?, ?it/s]"
      ]
     },
     "metadata": {},
     "output_type": "display_data"
    },
    {
     "name": "stdout",
     "output_type": "stream",
     "text": [
      "train_loss = 0.012860737525821852\n",
      "val_loss = 6.490610464476477e-09\n",
      "train_loss = 0.005304191021536462\n",
      "val_loss = 5.4315321155173905e-09\n",
      "train_loss = 0.004812510449237986\n",
      "val_loss = 5.2447152801642364e-09\n",
      "train_loss = 0.004631943809679507\n",
      "val_loss = 5.098495566149538e-09\n",
      "train_loss = 0.004525918076884276\n",
      "val_loss = 5.057942733599121e-09\n"
     ]
    },
    {
     "name": "stderr",
     "output_type": "stream",
     "text": [
      "Exception in thread Thread-36 (_pin_memory_loop):\n",
      "Traceback (most recent call last):\n",
      "  File \"/grid_mnt/data_cms_upgrade/cuisset/conda/envs/ticlRegression-gpu/lib/python3.11/threading.py\", line 1045, in _bootstrap_inner\n",
      "    self.run()\n",
      "  File \"/grid_mnt/data_cms_upgrade/cuisset/conda/envs/ticlRegression-gpu/lib/python3.11/site-packages/ipykernel/ipkernel.py\", line 761, in run_closure\n",
      "    _threading_Thread_run(self)\n",
      "  File \"/grid_mnt/data_cms_upgrade/cuisset/conda/envs/ticlRegression-gpu/lib/python3.11/threading.py\", line 982, in run\n",
      "    self._target(*self._args, **self._kwargs)\n",
      "  File \"/grid_mnt/data_cms_upgrade/cuisset/conda/envs/ticlRegression-gpu/lib/python3.11/site-packages/torch/utils/data/_utils/pin_memory.py\", line 53, in _pin_memory_loop\n",
      "    do_one_step()\n",
      "  File \"/grid_mnt/data_cms_upgrade/cuisset/conda/envs/ticlRegression-gpu/lib/python3.11/site-packages/torch/utils/data/_utils/pin_memory.py\", line 30, in do_one_step\n",
      "    r = in_queue.get(timeout=MP_STATUS_CHECK_INTERVAL)\n",
      "        ^^^^^^^^^^^^^^^^^^^^^^^^^^^^^^^^^^^^^^^^^^^^^^\n",
      "  File \"/grid_mnt/data_cms_upgrade/cuisset/conda/envs/ticlRegression-gpu/lib/python3.11/multiprocessing/queues.py\", line 122, in get\n",
      "    return _ForkingPickler.loads(res)\n",
      "           ^^^^^^^^^^^^^^^^^^^^^^^^^^\n",
      "  File \"/grid_mnt/data_cms_upgrade/cuisset/conda/envs/ticlRegression-gpu/lib/python3.11/site-packages/torch/multiprocessing/reductions.py\", line 495, in rebuild_storage_fd\n",
      "    fd = df.detach()\n",
      "         ^^^^^^^^^^^\n",
      "  File \"/grid_mnt/data_cms_upgrade/cuisset/conda/envs/ticlRegression-gpu/lib/python3.11/multiprocessing/resource_sharer.py\", line 57, in detach\n",
      "    with _resource_sharer.get_connection(self._id) as conn:\n",
      "         ^^^^^^^^^^^^^^^^^^^^^^^^^^^^^^^^^^^^^^^^^\n",
      "  File \"/grid_mnt/data_cms_upgrade/cuisset/conda/envs/ticlRegression-gpu/lib/python3.11/multiprocessing/resource_sharer.py\", line 86, in get_connection\n",
      "    c = Client(address, authkey=process.current_process().authkey)\n",
      "        ^^^^^^^^^^^^^^^^^^^^^^^^^^^^^^^^^^^^^^^^^^^^^^^^^^^^^^^^^^\n",
      "  File \"/grid_mnt/data_cms_upgrade/cuisset/conda/envs/ticlRegression-gpu/lib/python3.11/multiprocessing/connection.py\", line 518, in Client\n",
      "    c = SocketClient(address)\n",
      "        ^^^^^^^^^^^^^^^^^^^^^\n",
      "  File \"/grid_mnt/data_cms_upgrade/cuisset/conda/envs/ticlRegression-gpu/lib/python3.11/multiprocessing/connection.py\", line 646, in SocketClient\n",
      "    s.connect(address)\n",
      "FileNotFoundError: [Errno 2] No such file or directory\n"
     ]
    },
    {
     "ename": "KeyboardInterrupt",
     "evalue": "",
     "output_type": "error",
     "traceback": [
      "\u001b[0;31m---------------------------------------------------------------------------\u001b[0m",
      "\u001b[0;31mKeyboardInterrupt\u001b[0m                         Traceback (most recent call last)",
      "Cell \u001b[0;32mIn[31], line 2\u001b[0m\n\u001b[1;32m      1\u001b[0m trainer_continuous \u001b[38;5;241m=\u001b[39m Trainer(model\u001b[38;5;241m.\u001b[39mto(device), loss\u001b[38;5;241m=\u001b[39mContinuousAssociationScoreLoss(), device\u001b[38;5;241m=\u001b[39mdevice, log_output\u001b[38;5;241m=\u001b[39m\u001b[38;5;124m\"\u001b[39m\u001b[38;5;124m/grid_mnt/data_cms_upgrade/cuisset/supercls/dnn_training/test\u001b[39m\u001b[38;5;124m\"\u001b[39m)\n\u001b[0;32m----> 2\u001b[0m \u001b[43mtrainer_continuous\u001b[49m\u001b[38;5;241;43m.\u001b[39;49m\u001b[43mfull_train\u001b[49m\u001b[43m(\u001b[49m\u001b[43mdatasets_continuous\u001b[49m\u001b[43m[\u001b[49m\u001b[38;5;124;43m\"\u001b[39;49m\u001b[38;5;124;43mtrainDataset\u001b[39;49m\u001b[38;5;124;43m\"\u001b[39;49m\u001b[43m]\u001b[49m\u001b[43m,\u001b[49m\u001b[43m \u001b[49m\u001b[43mdatasets_continuous\u001b[49m\u001b[43m[\u001b[49m\u001b[38;5;124;43m\"\u001b[39;49m\u001b[38;5;124;43mvalDataset\u001b[39;49m\u001b[38;5;124;43m\"\u001b[39;49m\u001b[43m]\u001b[49m\u001b[43m)\u001b[49m\n",
      "File \u001b[0;32m/grid_mnt/vol_home/llr/cms/cuisset/hgcal/supercls/repoForJobs/dnn_training/../dnn_training/trainer.py:372\u001b[0m, in \u001b[0;36mTrainer.full_train\u001b[0;34m(self, train_dataset, val_dataset, nepochs, batch_size, weightSamples)\u001b[0m\n\u001b[1;32m    370\u001b[0m \u001b[38;5;28;01mfor\u001b[39;00m epoch \u001b[38;5;129;01min\u001b[39;00m tqdm(\u001b[38;5;28mrange\u001b[39m(nepochs)):\n\u001b[1;32m    371\u001b[0m     \u001b[38;5;28mself\u001b[39m\u001b[38;5;241m.\u001b[39mcurrent_epoch \u001b[38;5;241m+\u001b[39m\u001b[38;5;241m=\u001b[39m \u001b[38;5;241m1\u001b[39m\n\u001b[0;32m--> 372\u001b[0m     \u001b[38;5;28;43mself\u001b[39;49m\u001b[38;5;241;43m.\u001b[39;49m\u001b[43mtrain_loop\u001b[49m\u001b[43m(\u001b[49m\u001b[43mtrain_dataloader\u001b[49m\u001b[43m)\u001b[49m\n\u001b[1;32m    373\u001b[0m     tqdm\u001b[38;5;241m.\u001b[39mwrite(\u001b[38;5;124mf\u001b[39m\u001b[38;5;124m\"\u001b[39m\u001b[38;5;124mtrain_loss = \u001b[39m\u001b[38;5;132;01m{\u001b[39;00m\u001b[38;5;28mself\u001b[39m\u001b[38;5;241m.\u001b[39mtrain_losses_perEpoch[\u001b[38;5;241m-\u001b[39m\u001b[38;5;241m1\u001b[39m]\u001b[38;5;132;01m}\u001b[39;00m\u001b[38;5;124m\"\u001b[39m)\n\u001b[1;32m    374\u001b[0m     \u001b[38;5;28mself\u001b[39m\u001b[38;5;241m.\u001b[39mwriter\u001b[38;5;241m.\u001b[39madd_scalar(\u001b[38;5;124m\"\u001b[39m\u001b[38;5;124mLoss/train\u001b[39m\u001b[38;5;124m\"\u001b[39m, \u001b[38;5;28mself\u001b[39m\u001b[38;5;241m.\u001b[39mtrain_losses_perEpoch[\u001b[38;5;241m-\u001b[39m\u001b[38;5;241m1\u001b[39m], epoch)\n",
      "File \u001b[0;32m/grid_mnt/vol_home/llr/cms/cuisset/hgcal/supercls/repoForJobs/dnn_training/../dnn_training/trainer.py:178\u001b[0m, in \u001b[0;36mTrainer.train_loop\u001b[0;34m(self, train_dataloader)\u001b[0m\n\u001b[1;32m    176\u001b[0m \u001b[38;5;250m\u001b[39m\u001b[38;5;124;03m\"\"\" Train for one epoch \"\"\"\u001b[39;00m\n\u001b[1;32m    177\u001b[0m \u001b[38;5;28mself\u001b[39m\u001b[38;5;241m.\u001b[39mmodel\u001b[38;5;241m.\u001b[39mtrain()\n\u001b[0;32m--> 178\u001b[0m \u001b[43m\u001b[49m\u001b[38;5;28;43;01mfor\u001b[39;49;00m\u001b[43m \u001b[49m\u001b[43mbatch_id\u001b[49m\u001b[43m,\u001b[49m\u001b[43m \u001b[49m\u001b[43mbatch\u001b[49m\u001b[43m \u001b[49m\u001b[38;5;129;43;01min\u001b[39;49;00m\u001b[43m \u001b[49m\u001b[38;5;28;43menumerate\u001b[39;49m\u001b[43m(\u001b[49m\u001b[43mtrain_dataloader\u001b[49m\u001b[43m)\u001b[49m\u001b[43m:\u001b[49m\n\u001b[1;32m    179\u001b[0m \u001b[43m    \u001b[49m\u001b[38;5;28;43mself\u001b[39;49m\u001b[38;5;241;43m.\u001b[39;49m\u001b[43mtrain_step\u001b[49m\u001b[43m(\u001b[49m\u001b[43mbatch\u001b[49m\u001b[43m)\u001b[49m\n\u001b[1;32m    180\u001b[0m \u001b[38;5;28mself\u001b[39m\u001b[38;5;241m.\u001b[39mtrain_losses_perEpoch\u001b[38;5;241m.\u001b[39mappend(np\u001b[38;5;241m.\u001b[39maverage(\u001b[38;5;28mself\u001b[39m\u001b[38;5;241m.\u001b[39mtrain_losses_currentEpoch, weights\u001b[38;5;241m=\u001b[39m\u001b[38;5;28mself\u001b[39m\u001b[38;5;241m.\u001b[39mtrain_batch_sizes_currentEpoch))\n",
      "File \u001b[0;32m/grid_mnt/data_cms_upgrade/cuisset/conda/envs/ticlRegression-gpu/lib/python3.11/site-packages/torch/utils/data/dataloader.py:631\u001b[0m, in \u001b[0;36m_BaseDataLoaderIter.__next__\u001b[0;34m(self)\u001b[0m\n\u001b[1;32m    628\u001b[0m \u001b[38;5;28;01mif\u001b[39;00m \u001b[38;5;28mself\u001b[39m\u001b[38;5;241m.\u001b[39m_sampler_iter \u001b[38;5;129;01mis\u001b[39;00m \u001b[38;5;28;01mNone\u001b[39;00m:\n\u001b[1;32m    629\u001b[0m     \u001b[38;5;66;03m# TODO(https://github.com/pytorch/pytorch/issues/76750)\u001b[39;00m\n\u001b[1;32m    630\u001b[0m     \u001b[38;5;28mself\u001b[39m\u001b[38;5;241m.\u001b[39m_reset()  \u001b[38;5;66;03m# type: ignore[call-arg]\u001b[39;00m\n\u001b[0;32m--> 631\u001b[0m data \u001b[38;5;241m=\u001b[39m \u001b[38;5;28;43mself\u001b[39;49m\u001b[38;5;241;43m.\u001b[39;49m\u001b[43m_next_data\u001b[49m\u001b[43m(\u001b[49m\u001b[43m)\u001b[49m\n\u001b[1;32m    632\u001b[0m \u001b[38;5;28mself\u001b[39m\u001b[38;5;241m.\u001b[39m_num_yielded \u001b[38;5;241m+\u001b[39m\u001b[38;5;241m=\u001b[39m \u001b[38;5;241m1\u001b[39m\n\u001b[1;32m    633\u001b[0m \u001b[38;5;28;01mif\u001b[39;00m \u001b[38;5;28mself\u001b[39m\u001b[38;5;241m.\u001b[39m_dataset_kind \u001b[38;5;241m==\u001b[39m _DatasetKind\u001b[38;5;241m.\u001b[39mIterable \u001b[38;5;129;01mand\u001b[39;00m \\\n\u001b[1;32m    634\u001b[0m         \u001b[38;5;28mself\u001b[39m\u001b[38;5;241m.\u001b[39m_IterableDataset_len_called \u001b[38;5;129;01mis\u001b[39;00m \u001b[38;5;129;01mnot\u001b[39;00m \u001b[38;5;28;01mNone\u001b[39;00m \u001b[38;5;129;01mand\u001b[39;00m \\\n\u001b[1;32m    635\u001b[0m         \u001b[38;5;28mself\u001b[39m\u001b[38;5;241m.\u001b[39m_num_yielded \u001b[38;5;241m>\u001b[39m \u001b[38;5;28mself\u001b[39m\u001b[38;5;241m.\u001b[39m_IterableDataset_len_called:\n",
      "File \u001b[0;32m/grid_mnt/data_cms_upgrade/cuisset/conda/envs/ticlRegression-gpu/lib/python3.11/site-packages/torch/utils/data/dataloader.py:1346\u001b[0m, in \u001b[0;36m_MultiProcessingDataLoaderIter._next_data\u001b[0;34m(self)\u001b[0m\n\u001b[1;32m   1344\u001b[0m \u001b[38;5;28;01melse\u001b[39;00m:\n\u001b[1;32m   1345\u001b[0m     \u001b[38;5;28;01mdel\u001b[39;00m \u001b[38;5;28mself\u001b[39m\u001b[38;5;241m.\u001b[39m_task_info[idx]\n\u001b[0;32m-> 1346\u001b[0m     \u001b[38;5;28;01mreturn\u001b[39;00m \u001b[38;5;28;43mself\u001b[39;49m\u001b[38;5;241;43m.\u001b[39;49m\u001b[43m_process_data\u001b[49m\u001b[43m(\u001b[49m\u001b[43mdata\u001b[49m\u001b[43m)\u001b[49m\n",
      "File \u001b[0;32m/grid_mnt/data_cms_upgrade/cuisset/conda/envs/ticlRegression-gpu/lib/python3.11/site-packages/torch/utils/data/dataloader.py:1370\u001b[0m, in \u001b[0;36m_MultiProcessingDataLoaderIter._process_data\u001b[0;34m(self, data)\u001b[0m\n\u001b[1;32m   1368\u001b[0m \u001b[38;5;28;01mdef\u001b[39;00m \u001b[38;5;21m_process_data\u001b[39m(\u001b[38;5;28mself\u001b[39m, data):\n\u001b[1;32m   1369\u001b[0m     \u001b[38;5;28mself\u001b[39m\u001b[38;5;241m.\u001b[39m_rcvd_idx \u001b[38;5;241m+\u001b[39m\u001b[38;5;241m=\u001b[39m \u001b[38;5;241m1\u001b[39m\n\u001b[0;32m-> 1370\u001b[0m     \u001b[38;5;28;43mself\u001b[39;49m\u001b[38;5;241;43m.\u001b[39;49m\u001b[43m_try_put_index\u001b[49m\u001b[43m(\u001b[49m\u001b[43m)\u001b[49m\n\u001b[1;32m   1371\u001b[0m     \u001b[38;5;28;01mif\u001b[39;00m \u001b[38;5;28misinstance\u001b[39m(data, ExceptionWrapper):\n\u001b[1;32m   1372\u001b[0m         data\u001b[38;5;241m.\u001b[39mreraise()\n",
      "File \u001b[0;32m/grid_mnt/data_cms_upgrade/cuisset/conda/envs/ticlRegression-gpu/lib/python3.11/site-packages/torch/utils/data/dataloader.py:1352\u001b[0m, in \u001b[0;36m_MultiProcessingDataLoaderIter._try_put_index\u001b[0;34m(self)\u001b[0m\n\u001b[1;32m   1349\u001b[0m \u001b[38;5;28;01massert\u001b[39;00m \u001b[38;5;28mself\u001b[39m\u001b[38;5;241m.\u001b[39m_tasks_outstanding \u001b[38;5;241m<\u001b[39m \u001b[38;5;28mself\u001b[39m\u001b[38;5;241m.\u001b[39m_prefetch_factor \u001b[38;5;241m*\u001b[39m \u001b[38;5;28mself\u001b[39m\u001b[38;5;241m.\u001b[39m_num_workers\n\u001b[1;32m   1351\u001b[0m \u001b[38;5;28;01mtry\u001b[39;00m:\n\u001b[0;32m-> 1352\u001b[0m     index \u001b[38;5;241m=\u001b[39m \u001b[38;5;28;43mself\u001b[39;49m\u001b[38;5;241;43m.\u001b[39;49m\u001b[43m_next_index\u001b[49m\u001b[43m(\u001b[49m\u001b[43m)\u001b[49m\n\u001b[1;32m   1353\u001b[0m \u001b[38;5;28;01mexcept\u001b[39;00m \u001b[38;5;167;01mStopIteration\u001b[39;00m:\n\u001b[1;32m   1354\u001b[0m     \u001b[38;5;28;01mreturn\u001b[39;00m\n",
      "File \u001b[0;32m/grid_mnt/data_cms_upgrade/cuisset/conda/envs/ticlRegression-gpu/lib/python3.11/site-packages/torch/utils/data/dataloader.py:621\u001b[0m, in \u001b[0;36m_BaseDataLoaderIter._next_index\u001b[0;34m(self)\u001b[0m\n\u001b[1;32m    620\u001b[0m \u001b[38;5;28;01mdef\u001b[39;00m \u001b[38;5;21m_next_index\u001b[39m(\u001b[38;5;28mself\u001b[39m):\n\u001b[0;32m--> 621\u001b[0m     \u001b[38;5;28;01mreturn\u001b[39;00m \u001b[38;5;28;43mnext\u001b[39;49m\u001b[43m(\u001b[49m\u001b[38;5;28;43mself\u001b[39;49m\u001b[38;5;241;43m.\u001b[39;49m\u001b[43m_sampler_iter\u001b[49m\u001b[43m)\u001b[49m\n",
      "File \u001b[0;32m/grid_mnt/data_cms_upgrade/cuisset/conda/envs/ticlRegression-gpu/lib/python3.11/site-packages/torch/utils/data/sampler.py:-1\u001b[0m, in \u001b[0;36mBatchSampler.__iter__\u001b[0;34m(self)\u001b[0m\n\u001b[1;32m      0\u001b[0m <Error retrieving source code with stack_data see ipython/ipython#13598>\n",
      "\u001b[0;31mKeyboardInterrupt\u001b[0m: "
     ]
    }
   ],
   "source": [
    "trainer_continuous = Trainer(model.to(device), loss=ContinuousAssociationScoreLoss(), device=device, log_output=\"/grid_mnt/data_cms_upgrade/cuisset/supercls/dnn_training/test\")\n",
    "trainer_continuous.full_train(datasets_continuous[\"trainDataset\"], datasets_continuous[\"valDataset\"])"
   ]
  },
  {
   "cell_type": "code",
   "execution_count": 29,
   "metadata": {},
   "outputs": [
    {
     "data": {
      "text/plain": [
       "tensor([1., 1., 1.,  ..., 1., 1., 1.])"
      ]
     },
     "execution_count": 29,
     "metadata": {},
     "output_type": "execute_result"
    }
   ],
   "source": [
    "datasets_continuous[\"valDataset\"][\"assocScore_training\"]"
   ]
  },
  {
   "cell_type": "code",
   "execution_count": 23,
   "metadata": {},
   "outputs": [
    {
     "data": {
      "text/plain": [
       "tensor(0.0072)"
      ]
     },
     "execution_count": 23,
     "metadata": {},
     "output_type": "execute_result"
    }
   ],
   "source": [
    "gen = datasets_continuous[\"trainDataset\"][:][\"assocScore_training\"][0] <= 0.2\n",
    "#sampler = WeightedRandomSampler(torch.where(gen==1, torch.sum(gen==0)/torch.sum(gen==1), 1.), gen.shape[0], replacement=True)\n",
    "torch.sum(gen) / len(gen)"
   ]
  },
  {
   "cell_type": "code",
   "execution_count": 13,
   "metadata": {},
   "outputs": [
    {
     "data": {
      "text/plain": [
       "tensor([0., 1., 1., 0., 0.])"
      ]
     },
     "execution_count": 13,
     "metadata": {},
     "output_type": "execute_result"
    }
   ],
   "source": [
    "train_dataloader = DataLoader(datasets_binary[\"trainDataset\"], batch_size=5,  sampler=sampler)\n",
    "next(iter(train_dataloader))[\"genmatching\"][0]"
   ]
  },
  {
   "cell_type": "code",
   "execution_count": 11,
   "metadata": {},
   "outputs": [
    {
     "data": {
      "text/plain": [
       "tensor([1., 1., 1.,  ..., 1., 1., 1.])"
      ]
     },
     "execution_count": 11,
     "metadata": {},
     "output_type": "execute_result"
    }
   ],
   "source": [
    "datasets_continuous[\"trainDataset\"][:][\"assocScore_training\"][0]"
   ]
  },
  {
   "cell_type": "code",
   "execution_count": 9,
   "metadata": {},
   "outputs": [
    {
     "data": {
      "text/plain": [
       "torch.utils.data.sampler.WeightedRandomSampler"
      ]
     },
     "execution_count": 9,
     "metadata": {},
     "output_type": "execute_result"
    }
   ],
   "source": [
    "WeightedRandomSampler()"
   ]
  },
  {
   "cell_type": "markdown",
   "metadata": {},
   "source": [
    "## Loading already trained model"
   ]
  },
  {
   "cell_type": "code",
   "execution_count": 6,
   "metadata": {},
   "outputs": [],
   "source": [
    "model = makeModel()\n",
    "loss = BinaryLoss()\n",
    "trainer = Trainer(model, loss=loss, device=\"cpu\", log_output=\"/grid_mnt/data_cms_upgrade/cuisset/supercls/dnn_training/test\")\n",
    "trainer.reloadModel(\"/grid_mnt/data_cms_upgrade/cuisset/supercls/dnn_training/full-v2/Apr05_14-48-03/model_epoch376.pth\")"
   ]
  },
  {
   "cell_type": "code",
   "execution_count": 7,
   "metadata": {},
   "outputs": [
    {
     "name": "stdout",
     "output_type": "stream",
     "text": [
      "Exported graph: graph(%input : Float(*, 17, strides=[17, 1], requires_grad=0, device=cpu),\n",
      "      %0.scaler_scale : Float(17, strides=[1], requires_grad=0, device=cpu),\n",
      "      %0.scaler_min : Float(17, strides=[1], requires_grad=0, device=cpu),\n",
      "      %1.weight : Float(100, 17, strides=[17, 1], requires_grad=1, device=cpu),\n",
      "      %1.bias : Float(100, strides=[1], requires_grad=1, device=cpu),\n",
      "      %4.weight : Float(200, 100, strides=[100, 1], requires_grad=1, device=cpu),\n",
      "      %4.bias : Float(200, strides=[1], requires_grad=1, device=cpu),\n",
      "      %7.weight : Float(100, 200, strides=[200, 1], requires_grad=1, device=cpu),\n",
      "      %7.bias : Float(100, strides=[1], requires_grad=1, device=cpu),\n",
      "      %10.weight : Float(1, 100, strides=[100, 1], requires_grad=1, device=cpu),\n",
      "      %10.bias : Float(1, strides=[1], requires_grad=1, device=cpu)):\n",
      "  %/0/Mul_output_0 : Float(*, 17, strides=[17, 1], requires_grad=0, device=cpu) = onnx::Mul[onnx_name=\"/0/Mul\"](%input, %0.scaler_scale), scope: torch.nn.modules.container.Sequential::/dnn_training.trainer.FeatureScaler::0 # /grid_mnt/vol_home/llr/cms/cuisset/hgcal/supercls/repoForJobs/dnn_training/../dnn_training/trainer.py:72:0\n",
      "  %/0/Add_output_0 : Float(*, 17, strides=[17, 1], requires_grad=0, device=cpu) = onnx::Add[onnx_name=\"/0/Add\"](%/0/Mul_output_0, %0.scaler_min), scope: torch.nn.modules.container.Sequential::/dnn_training.trainer.FeatureScaler::0 # /grid_mnt/vol_home/llr/cms/cuisset/hgcal/supercls/repoForJobs/dnn_training/../dnn_training/trainer.py:72:0\n",
      "  %/1/Gemm_output_0 : Float(*, 100, strides=[100, 1], requires_grad=1, device=cpu) = onnx::Gemm[alpha=1., beta=1., transB=1, onnx_name=\"/1/Gemm\"](%/0/Add_output_0, %1.weight, %1.bias), scope: torch.nn.modules.container.Sequential::/torch.nn.modules.linear.Linear::1 # /grid_mnt/data_cms_upgrade/cuisset/conda/envs/ticlRegression-gpu/lib/python3.11/site-packages/torch/nn/modules/linear.py:116:0\n",
      "  %/2/Relu_output_0 : Float(*, 100, strides=[100, 1], requires_grad=1, device=cpu) = onnx::Relu[onnx_name=\"/2/Relu\"](%/1/Gemm_output_0), scope: torch.nn.modules.container.Sequential::/torch.nn.modules.activation.ReLU::2 # /grid_mnt/data_cms_upgrade/cuisset/conda/envs/ticlRegression-gpu/lib/python3.11/site-packages/torch/nn/functional.py:1473:0\n",
      "  %/4/Gemm_output_0 : Float(*, 200, strides=[200, 1], requires_grad=1, device=cpu) = onnx::Gemm[alpha=1., beta=1., transB=1, onnx_name=\"/4/Gemm\"](%/2/Relu_output_0, %4.weight, %4.bias), scope: torch.nn.modules.container.Sequential::/torch.nn.modules.linear.Linear::4 # /grid_mnt/data_cms_upgrade/cuisset/conda/envs/ticlRegression-gpu/lib/python3.11/site-packages/torch/nn/modules/linear.py:116:0\n",
      "  %/5/Relu_output_0 : Float(*, 200, strides=[200, 1], requires_grad=1, device=cpu) = onnx::Relu[onnx_name=\"/5/Relu\"](%/4/Gemm_output_0), scope: torch.nn.modules.container.Sequential::/torch.nn.modules.activation.ReLU::5 # /grid_mnt/data_cms_upgrade/cuisset/conda/envs/ticlRegression-gpu/lib/python3.11/site-packages/torch/nn/functional.py:1473:0\n",
      "  %/7/Gemm_output_0 : Float(*, 100, strides=[100, 1], requires_grad=1, device=cpu) = onnx::Gemm[alpha=1., beta=1., transB=1, onnx_name=\"/7/Gemm\"](%/5/Relu_output_0, %7.weight, %7.bias), scope: torch.nn.modules.container.Sequential::/torch.nn.modules.linear.Linear::7 # /grid_mnt/data_cms_upgrade/cuisset/conda/envs/ticlRegression-gpu/lib/python3.11/site-packages/torch/nn/modules/linear.py:116:0\n",
      "  %/8/Relu_output_0 : Float(*, 100, strides=[100, 1], requires_grad=1, device=cpu) = onnx::Relu[onnx_name=\"/8/Relu\"](%/7/Gemm_output_0), scope: torch.nn.modules.container.Sequential::/torch.nn.modules.activation.ReLU::8 # /grid_mnt/data_cms_upgrade/cuisset/conda/envs/ticlRegression-gpu/lib/python3.11/site-packages/torch/nn/functional.py:1473:0\n",
      "  %/10/Gemm_output_0 : Float(*, 1, strides=[1, 1], requires_grad=1, device=cpu) = onnx::Gemm[alpha=1., beta=1., transB=1, onnx_name=\"/10/Gemm\"](%/8/Relu_output_0, %10.weight, %10.bias), scope: torch.nn.modules.container.Sequential::/torch.nn.modules.linear.Linear::10 # /grid_mnt/data_cms_upgrade/cuisset/conda/envs/ticlRegression-gpu/lib/python3.11/site-packages/torch/nn/modules/linear.py:116:0\n",
      "  %output : Float(*, 1, strides=[1, 1], requires_grad=1, device=cpu) = onnx::Sigmoid[onnx_name=\"/11/Sigmoid\"](%/10/Gemm_output_0), scope: torch.nn.modules.container.Sequential::/torch.nn.modules.activation.Sigmoid::11 # /grid_mnt/data_cms_upgrade/cuisset/conda/envs/ticlRegression-gpu/lib/python3.11/site-packages/torch/nn/modules/activation.py:292:0\n",
      "  return (%output)\n",
      "\n"
     ]
    }
   ],
   "source": [
    "trainer.model.eval()\n",
    "trainer.saveModel(\"epoch376\", format=\"onnx\")"
   ]
  },
  {
   "cell_type": "code",
   "execution_count": 2,
   "metadata": {},
   "outputs": [],
   "source": [
    "device = \"cuda:1\""
   ]
  },
  {
   "cell_type": "code",
   "execution_count": 3,
   "metadata": {},
   "outputs": [],
   "source": [
    "model, loss = makeModelLoss()\n",
    "trainer = Trainer(model.to(device), loss, device=device, log_output=\"/grid_mnt/data_cms_upgrade/cuisset/supercls/dnn_training\")"
   ]
  },
  {
   "cell_type": "code",
   "execution_count": 4,
   "metadata": {},
   "outputs": [],
   "source": [
    "train_dataset, val_dataset = makeDatasetsTrainVal(\"/grid_mnt/data_cms_upgrade/cuisset/supercls/alessandro_electrons/supercls-v13/superclsDumper_1.root\", device=\"cpu\")"
   ]
  },
  {
   "cell_type": "code",
   "execution_count": null,
   "metadata": {},
   "outputs": [],
   "source": []
  },
  {
   "cell_type": "code",
   "execution_count": 10,
   "metadata": {},
   "outputs": [
    {
     "data": {
      "application/vnd.jupyter.widget-view+json": {
       "model_id": "7e90542f81124604815b0c9be0ce911f",
       "version_major": 2,
       "version_minor": 0
      },
      "text/plain": [
       "  0%|          | 0/5 [00:00<?, ?it/s]"
      ]
     },
     "metadata": {},
     "output_type": "display_data"
    },
    {
     "name": "stdout",
     "output_type": "stream",
     "text": [
      "train_loss = 0.30187917076546\n",
      "val_loss = 0.010887423530220985\n",
      "train_loss = 0.30434493648499483\n",
      "val_loss = 0.011025166371837258\n",
      "train_loss = 0.28661539388122037\n",
      "val_loss = 0.010727119981311262\n",
      "train_loss = 0.3006898802414071\n",
      "val_loss = 0.013658439042046666\n",
      "train_loss = 0.2873406008075108\n",
      "val_loss = 0.0105202526319772\n"
     ]
    }
   ],
   "source": [
    "trainer.full_train(train_dataset, val_dataset, nepochs=5)"
   ]
  },
  {
   "cell_type": "code",
   "execution_count": 6,
   "metadata": {},
   "outputs": [
    {
     "data": {
      "text/plain": [
       "[0.001]"
      ]
     },
     "execution_count": 6,
     "metadata": {},
     "output_type": "execute_result"
    }
   ],
   "source": [
    "trainer.scheduler.get_last_lr()"
   ]
  },
  {
   "cell_type": "code",
   "execution_count": 11,
   "metadata": {},
   "outputs": [],
   "source": [
    "import torch.onnx"
   ]
  },
  {
   "cell_type": "code",
   "execution_count": 27,
   "metadata": {},
   "outputs": [
    {
     "data": {
      "text/plain": [
       "torch.float32"
      ]
     },
     "execution_count": 27,
     "metadata": {},
     "output_type": "execute_result"
    }
   ],
   "source": [
    "train_dataset[0:2][\"features\"][0].dtype"
   ]
  },
  {
   "cell_type": "code",
   "execution_count": 28,
   "metadata": {},
   "outputs": [
    {
     "data": {
      "text/plain": [
       "torch.float32"
      ]
     },
     "execution_count": 28,
     "metadata": {},
     "output_type": "execute_result"
    }
   ],
   "source": [
    "torch.ones((1, 17)).dtype"
   ]
  },
  {
   "cell_type": "code",
   "execution_count": 22,
   "metadata": {},
   "outputs": [
    {
     "name": "stdout",
     "output_type": "stream",
     "text": [
      "Exported graph: graph(%input : Float(*, 17, strides=[17, 1], requires_grad=0, device=cpu),\n",
      "      %0.weight : Float(100, 17, strides=[17, 1], requires_grad=1, device=cpu),\n",
      "      %0.bias : Float(100, strides=[1], requires_grad=1, device=cpu),\n",
      "      %2.weight : Float(200, 100, strides=[100, 1], requires_grad=1, device=cpu),\n",
      "      %2.bias : Float(200, strides=[1], requires_grad=1, device=cpu),\n",
      "      %4.weight : Float(100, 200, strides=[200, 1], requires_grad=1, device=cpu),\n",
      "      %4.bias : Float(100, strides=[1], requires_grad=1, device=cpu),\n",
      "      %6.weight : Float(1, 100, strides=[100, 1], requires_grad=1, device=cpu),\n",
      "      %6.bias : Float(1, strides=[1], requires_grad=1, device=cpu)):\n",
      "  %/0/Gemm_output_0 : Float(*, 100, strides=[100, 1], requires_grad=1, device=cpu) = onnx::Gemm[alpha=1., beta=1., transB=1, onnx_name=\"/0/Gemm\"](%input, %0.weight, %0.bias), scope: torch.nn.modules.container.Sequential::/torch.nn.modules.linear.Linear::0 # /grid_mnt/data_cms_upgrade/cuisset/conda/envs/ticlRegression-gpu/lib/python3.11/site-packages/torch/nn/modules/linear.py:116:0\n",
      "  %/1/Relu_output_0 : Float(*, 100, strides=[100, 1], requires_grad=1, device=cpu) = onnx::Relu[onnx_name=\"/1/Relu\"](%/0/Gemm_output_0), scope: torch.nn.modules.container.Sequential::/torch.nn.modules.activation.ReLU::1 # /grid_mnt/data_cms_upgrade/cuisset/conda/envs/ticlRegression-gpu/lib/python3.11/site-packages/torch/nn/functional.py:1473:0\n",
      "  %/2/Gemm_output_0 : Float(*, 200, strides=[200, 1], requires_grad=1, device=cpu) = onnx::Gemm[alpha=1., beta=1., transB=1, onnx_name=\"/2/Gemm\"](%/1/Relu_output_0, %2.weight, %2.bias), scope: torch.nn.modules.container.Sequential::/torch.nn.modules.linear.Linear::2 # /grid_mnt/data_cms_upgrade/cuisset/conda/envs/ticlRegression-gpu/lib/python3.11/site-packages/torch/nn/modules/linear.py:116:0\n",
      "  %/3/Relu_output_0 : Float(*, 200, strides=[200, 1], requires_grad=1, device=cpu) = onnx::Relu[onnx_name=\"/3/Relu\"](%/2/Gemm_output_0), scope: torch.nn.modules.container.Sequential::/torch.nn.modules.activation.ReLU::3 # /grid_mnt/data_cms_upgrade/cuisset/conda/envs/ticlRegression-gpu/lib/python3.11/site-packages/torch/nn/functional.py:1473:0\n",
      "  %/4/Gemm_output_0 : Float(*, 100, strides=[100, 1], requires_grad=1, device=cpu) = onnx::Gemm[alpha=1., beta=1., transB=1, onnx_name=\"/4/Gemm\"](%/3/Relu_output_0, %4.weight, %4.bias), scope: torch.nn.modules.container.Sequential::/torch.nn.modules.linear.Linear::4 # /grid_mnt/data_cms_upgrade/cuisset/conda/envs/ticlRegression-gpu/lib/python3.11/site-packages/torch/nn/modules/linear.py:116:0\n",
      "  %/5/Relu_output_0 : Float(*, 100, strides=[100, 1], requires_grad=1, device=cpu) = onnx::Relu[onnx_name=\"/5/Relu\"](%/4/Gemm_output_0), scope: torch.nn.modules.container.Sequential::/torch.nn.modules.activation.ReLU::5 # /grid_mnt/data_cms_upgrade/cuisset/conda/envs/ticlRegression-gpu/lib/python3.11/site-packages/torch/nn/functional.py:1473:0\n",
      "  %/6/Gemm_output_0 : Float(*, 1, strides=[1, 1], requires_grad=1, device=cpu) = onnx::Gemm[alpha=1., beta=1., transB=1, onnx_name=\"/6/Gemm\"](%/5/Relu_output_0, %6.weight, %6.bias), scope: torch.nn.modules.container.Sequential::/torch.nn.modules.linear.Linear::6 # /grid_mnt/data_cms_upgrade/cuisset/conda/envs/ticlRegression-gpu/lib/python3.11/site-packages/torch/nn/modules/linear.py:116:0\n",
      "  %output : Float(*, 1, strides=[1, 1], requires_grad=1, device=cpu) = onnx::Sigmoid[onnx_name=\"/7/Sigmoid\"](%/6/Gemm_output_0), scope: torch.nn.modules.container.Sequential::/torch.nn.modules.activation.Sigmoid::7 # /grid_mnt/data_cms_upgrade/cuisset/conda/envs/ticlRegression-gpu/lib/python3.11/site-packages/torch/nn/modules/activation.py:292:0\n",
      "  return (%output)\n",
      "\n"
     ]
    }
   ],
   "source": [
    "model.to(\"cpu\")\n",
    "\n",
    "torch.onnx.export(\n",
    "    model,\n",
    "    train_dataset[0:2][\"features\"][0].to(\"cpu\"),\n",
    "    \"model.onnx\",\n",
    "    export_params=True,\n",
    "    verbose=True,\n",
    "    input_names=[\"input\"],\n",
    "    output_names=[\"output\"],\n",
    "    opset_version=10,\n",
    "    dynamic_axes={\"input\" : {0:\"batch_size\"}, \"output\": {0:\"batch_size\"}}\n",
    ")"
   ]
  }
 ],
 "metadata": {
  "kernelspec": {
   "display_name": "ticlRegression-gpu",
   "language": "python",
   "name": "python3"
  },
  "language_info": {
   "codemirror_mode": {
    "name": "ipython",
    "version": 3
   },
   "file_extension": ".py",
   "mimetype": "text/x-python",
   "name": "python",
   "nbconvert_exporter": "python",
   "pygments_lexer": "ipython3",
   "version": "3.11.6"
  }
 },
 "nbformat": 4,
 "nbformat_minor": 2
}
