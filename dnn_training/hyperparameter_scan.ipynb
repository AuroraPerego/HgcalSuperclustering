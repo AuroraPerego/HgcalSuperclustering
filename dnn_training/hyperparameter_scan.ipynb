{
 "cells": [
  {
   "cell_type": "code",
   "execution_count": 2,
   "metadata": {},
   "outputs": [
    {
     "name": "stdout",
     "output_type": "stream",
     "text": [
      "The autoreload extension is already loaded. To reload it, use:\n",
      "  %reload_ext autoreload\n"
     ]
    }
   ],
   "source": [
    "%load_ext autoreload\n",
    "%autoreload 2\n",
    "import sys\n",
    "sys.path.append(\"..\")\n",
    "import torch\n",
    "import optuna\n",
    "from dnn_training.trainer import *\n",
    "from dnn_training.hyperparameter_scan import *"
   ]
  },
  {
   "cell_type": "code",
   "execution_count": 4,
   "metadata": {},
   "outputs": [
    {
     "name": "stderr",
     "output_type": "stream",
     "text": [
      "/tmp/ipykernel_145720/2220379784.py:3: ExperimentalWarning: JournalStorage is experimental (supported from v3.1.0). The interface can change in the future.\n",
      "  storage=optuna.storages.JournalStorage(optuna.storages.JournalFileStorage(\"/grid_mnt/data_cms_upgrade/cuisset/supercls/dnn_training/hyperparams-v1/journal_test_1.log\"),))\n",
      "[I 2024-04-08 14:38:26,047] A new study created in Journal with name: no-name-00984b9b-42b7-48af-b0f4-20d08a63845f\n"
     ]
    }
   ],
   "source": [
    "study = optuna.create_study(\n",
    "    pruner=optuna.pruners.HyperbandPruner(),\n",
    "    storage=optuna.storages.JournalStorage(optuna.storages.JournalFileStorage(\"/grid_mnt/data_cms_upgrade/cuisset/supercls/dnn_training/hyperparams-v1/journal_test_1.log\"),))"
   ]
  },
  {
   "cell_type": "code",
   "execution_count": 18,
   "metadata": {},
   "outputs": [
    {
     "name": "stdout",
     "output_type": "stream",
     "text": [
      "Loading dataset...\n",
      "Dataset loaded into RAM\n"
     ]
    },
    {
     "data": {
      "application/vnd.jupyter.widget-view+json": {
       "model_id": "5aa8ec792056464fb541427efb3398a4",
       "version_major": 2,
       "version_minor": 0
      },
      "text/plain": [
       "  0%|          | 0/10 [00:00<?, ?it/s]"
      ]
     },
     "metadata": {},
     "output_type": "display_data"
    },
    {
     "name": "stdout",
     "output_type": "stream",
     "text": [
      "train_loss = 0.10285763357193434\n",
      "val_loss = 0.10916735231876373\n",
      "train_loss = 0.08264435252653457\n",
      "val_loss = 0.09647541493177414\n",
      "train_loss = 0.07759700448145886\n",
      "val_loss = 0.1035563051700592\n",
      "train_loss = 0.07444620232920182\n",
      "val_loss = 0.09241978079080582\n",
      "train_loss = 0.0724340887180131\n",
      "val_loss = 0.07782204449176788\n",
      "train_loss = 0.07051101348056384\n",
      "val_loss = 0.10951804369688034\n",
      "train_loss = 0.06946153203110064\n",
      "val_loss = 0.09353321045637131\n",
      "train_loss = 0.06841316473489185\n",
      "val_loss = 0.10037089139223099\n",
      "train_loss = 0.06729305179849365\n",
      "val_loss = 0.09302803874015808\n",
      "train_loss = 0.06625829325019834\n",
      "val_loss = 0.09621752798557281\n"
     ]
    },
    {
     "name": "stderr",
     "output_type": "stream",
     "text": [
      "[I 2024-04-08 15:37:01,814] Trial 15 finished with value: 0.29885056614875793 and parameters: {'dropout': 0.16291726718736904, 'trainingLossType': 'binary', 'lr': 0.003320793707269728, 'batchSize': 965, 'weightSamples': True}. Best is trial 15 with value: 0.29885056614875793.\n"
     ]
    },
    {
     "name": "stdout",
     "output_type": "stream",
     "text": [
      "Loading dataset...\n",
      "Dataset loaded into RAM\n"
     ]
    },
    {
     "data": {
      "application/vnd.jupyter.widget-view+json": {
       "model_id": "ebfcef21c6b84009908a841228776bda",
       "version_major": 2,
       "version_minor": 0
      },
      "text/plain": [
       "  0%|          | 0/10 [00:00<?, ?it/s]"
      ]
     },
     "metadata": {},
     "output_type": "display_data"
    },
    {
     "name": "stdout",
     "output_type": "stream",
     "text": [
      "train_loss = 0.16573507529474119\n",
      "val_loss = 0.13470520079135895\n",
      "train_loss = 0.09702740688951728\n",
      "val_loss = 0.11574326455593109\n",
      "train_loss = 0.08570478300948199\n",
      "val_loss = 0.11789839714765549\n",
      "train_loss = 0.08116929784091681\n",
      "val_loss = 0.11118064820766449\n",
      "train_loss = 0.07787169014826992\n",
      "val_loss = 0.0954996794462204\n",
      "train_loss = 0.07568169994707816\n",
      "val_loss = 0.09493781626224518\n",
      "train_loss = 0.07438785041003662\n",
      "val_loss = 0.08022262901067734\n",
      "train_loss = 0.07237083764300378\n",
      "val_loss = 0.07997513562440872\n",
      "train_loss = 0.07129589985642884\n",
      "val_loss = 0.08059107512235641\n",
      "train_loss = 0.06983752779063912\n",
      "val_loss = 0.08799845725297928\n"
     ]
    },
    {
     "name": "stderr",
     "output_type": "stream",
     "text": [
      "[I 2024-04-08 15:42:20,408] Trial 16 finished with value: 0.2991444170475006 and parameters: {'dropout': 0.14819865692923473, 'trainingLossType': 'binary', 'lr': 0.0010095301254578934, 'batchSize': 4922, 'weightSamples': True}. Best is trial 15 with value: 0.29885056614875793.\n"
     ]
    }
   ],
   "source": [
    "study.optimize(objective, n_trials=2)"
   ]
  }
 ],
 "metadata": {
  "kernelspec": {
   "display_name": "ticlRegression-gpu",
   "language": "python",
   "name": "python3"
  },
  "language_info": {
   "codemirror_mode": {
    "name": "ipython",
    "version": 3
   },
   "file_extension": ".py",
   "mimetype": "text/x-python",
   "name": "python",
   "nbconvert_exporter": "python",
   "pygments_lexer": "ipython3",
   "version": "3.11.6"
  }
 },
 "nbformat": 4,
 "nbformat_minor": 2
}
