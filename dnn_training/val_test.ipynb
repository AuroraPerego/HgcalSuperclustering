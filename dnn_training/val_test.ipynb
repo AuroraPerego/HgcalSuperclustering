{
 "cells": [
  {
   "cell_type": "code",
   "execution_count": 16,
   "metadata": {},
   "outputs": [
    {
     "name": "stdout",
     "output_type": "stream",
     "text": [
      "The autoreload extension is already loaded. To reload it, use:\n",
      "  %reload_ext autoreload\n"
     ]
    }
   ],
   "source": [
    "%load_ext autoreload\n",
    "%autoreload 2\n",
    "import sys\n",
    "sys.path.append(\"..\")\n",
    "import torch\n",
    "from dnn_training.dataset import *\n",
    "import numpy as np\n",
    "from dnn_training.trainer import *\n",
    "import awkward as ak\n",
    "import matplotlib.pyplot as plt\n",
    "import scipy.optimize, scipy.stats"
   ]
  },
  {
   "cell_type": "code",
   "execution_count": 4,
   "metadata": {},
   "outputs": [],
   "source": [
    "device=\"cuda:1\"\n",
    "model = makeModel()\n",
    "loss = BinaryLoss()\n",
    "trial = FixedTrial({\n",
    "    \"dropout\" : 0.2,\n",
    "    \"trainingLossType\" : \"binary\",\n",
    "    \"batchSize\" : 512,\n",
    "    \"weightSamples\" : False,\n",
    "    \"lr\" : 1e-3,\n",
    "})\n",
    "trainer = Trainer(model.to(device), loss=loss, trial=trial, device=device, log_output=\"/grid_mnt/data_cms_upgrade/cuisset/supercls/dnn_training/test\")\n",
    "datasets_binary = makeDatasetsTrainVal_fromCache(\"/grid_mnt/data_cms_upgrade/cuisset/supercls/alessandro_electrons/supercls-v15-sampleDump/superclsDumper_*.root\", device_valDataset=device)\n",
    "datasets_continuous = makeDatasetsTrainVal_fromCache(\"/grid_mnt/data_cms_upgrade/cuisset/supercls/alessandro_electrons/supercls-v15-sampleDump/superclsDumper_*.root\", device_valDataset=device, trainingLossType=\"continuousAssociationScore\")"
   ]
  },
  {
   "cell_type": "code",
   "execution_count": 5,
   "metadata": {},
   "outputs": [],
   "source": [
    "trainer.reloadModel(\"/grid_mnt/data_cms_upgrade/cuisset/supercls/dnn_training/hyperparams-v3/236-Apr09_13-04-27/model_lastEpoch_48.pth\")"
   ]
  },
  {
   "cell_type": "code",
   "execution_count": 6,
   "metadata": {},
   "outputs": [
    {
     "data": {
      "text/plain": [
       "{'trainDataset': <torch.utils.data.dataset.StackDataset at 0x7f2f60854a50>,\n",
       " 'valDataset': {'features': tensor([[ 4.9151e-02, -3.5352e+00,  1.1917e+01,  ...,  2.0669e-01,\n",
       "            3.5756e+01,  9.5144e-01],\n",
       "          [ 1.8419e-01,  9.7488e-01,  1.8703e+01,  ...,  1.6640e-01,\n",
       "            2.9074e+01,  9.6073e-01],\n",
       "          [ 8.9139e-02, -4.6144e+00,  1.5425e+01,  ...,  7.7751e-02,\n",
       "            2.3623e+01,  9.4039e-01],\n",
       "          ...,\n",
       "          [-1.9143e-01,  1.2265e+00,  2.4703e+00,  ...,  4.4375e-02,\n",
       "            7.4003e+00,  9.8095e-01],\n",
       "          [ 3.0321e-02,  3.0368e+00,  1.5284e+00,  ...,  4.8386e-02,\n",
       "            2.1962e+01,  9.9356e-01],\n",
       "          [ 2.8014e-03,  1.8716e+00,  4.9680e+00,  ...,  6.1285e-02,\n",
       "            1.8545e+01,  9.7659e-01]]),\n",
       "  'genmatching': tensor([0., 0., 0.,  ..., 0., 0., 0.]),\n",
       "  'assocScore_training': tensor([1., 1., 1.,  ..., 1., 1., 1.]),\n",
       "  'seedTracksterBestAssociationScore': tensor([0.0149, 0.0149, 0.0149,  ..., 0.0367, 0.0367, 0.0367]),\n",
       "  'candidateTracksterAssociationWithSeed_score': tensor([1., 1., 1.,  ..., 1., 1., 1.]),\n",
       "  'caloParticleEnergy_perEvent': tensor([ 54.7784,  67.9757,  83.6709,  ..., 377.9515, 202.2375,  90.7236]),\n",
       "  'seedEnergy_perEvent': tensor([ 53.0916,  72.5433,  74.2667,  ..., 361.3311, 193.3537, 104.7671]),\n",
       "  'eventIndex': tensor([   0,    0,    0,  ..., 7162, 7162, 7162])}}"
      ]
     },
     "execution_count": 6,
     "metadata": {},
     "output_type": "execute_result"
    }
   ],
   "source": [
    "datasets_continuous"
   ]
  },
  {
   "cell_type": "code",
   "execution_count": 7,
   "metadata": {},
   "outputs": [],
   "source": [
    "val_dataset_cpu = {key : tensor.cpu() for key, tensor in datasets_continuous[\"valDataset\"].items()}\n",
    "val_dataset_gpu = {key : tensor.to(trainer.device) for key, tensor in datasets_continuous[\"valDataset\"].items()}"
   ]
  },
  {
   "cell_type": "code",
   "execution_count": 8,
   "metadata": {},
   "outputs": [],
   "source": [
    "pred, loss = trainer.val_evaluateModel(val_dataset_gpu)\n",
    "pred = trainer.loss.switchPredIfNeeded(pred).cpu()"
   ]
  },
  {
   "cell_type": "code",
   "execution_count": 9,
   "metadata": {},
   "outputs": [
    {
     "data": {
      "text/plain": [
       "tensor([5.0822e-08, 8.5382e-10, 5.7731e-09,  ..., 0.0000e+00, 4.0291e-08,\n",
       "        7.7943e-06])"
      ]
     },
     "execution_count": 9,
     "metadata": {},
     "output_type": "execute_result"
    }
   ],
   "source": [
    "pred"
   ]
  },
  {
   "cell_type": "code",
   "execution_count": 11,
   "metadata": {},
   "outputs": [
    {
     "data": {
      "text/plain": [
       "tensor([1.2242, 1.0672, 1.0293,  ..., 0.9948, 0.9561, 1.1771])"
      ]
     },
     "execution_count": 11,
     "metadata": {},
     "output_type": "execute_result"
    }
   ],
   "source": [
    "val_dataset = val_dataset_cpu\n",
    "def superclusteredEnergyForWP(wp:float):\n",
    "    \"\"\" Compute for each event the sum of energy superclustered by the DNN at the given WP \"\"\"\n",
    "    return val_dataset[\"seedEnergy_perEvent\"] + torch.scatter_add(torch.zeros(torch.max(val_dataset[\"eventIndex\"])+1, device=val_dataset[\"eventIndex\"].device), 0, val_dataset[\"eventIndex\"], val_dataset[\"features\"][:, featureNames.index(\"multi_en\")]*(pred >= wp))\n",
    "\n",
    "superclsEnergy = superclusteredEnergyForWP(0.8)\n",
    "superclsEnergy_ratio = superclsEnergy / val_dataset[\"caloParticleEnergy_perEvent\"]\n",
    "superclsEnergy_ratio"
   ]
  },
  {
   "cell_type": "code",
   "execution_count": 18,
   "metadata": {},
   "outputs": [
    {
     "data": {
      "text/plain": [
       "7163"
      ]
     },
     "execution_count": 18,
     "metadata": {},
     "output_type": "execute_result"
    }
   ],
   "source": []
  },
  {
   "cell_type": "code",
   "execution_count": 20,
   "metadata": {},
   "outputs": [
    {
     "data": {
      "text/plain": [
       "tensor([ 0.2362,  0.0793,  0.0415,  ...,  0.0088, -0.0310,  0.1893])"
      ]
     },
     "execution_count": 20,
     "metadata": {},
     "output_type": "execute_result"
    }
   ],
   "source": [
    "resid"
   ]
  },
  {
   "cell_type": "code",
   "execution_count": 22,
   "metadata": {},
   "outputs": [
    {
     "data": {
      "text/plain": [
       "[<matplotlib.lines.Line2D at 0x7f2e3062afd0>]"
      ]
     },
     "execution_count": 22,
     "metadata": {},
     "output_type": "execute_result"
    },
    {
     "data": {
      "image/png": "[encoded data removed]",
      "text/plain": [
       "<Figure size 600x500 with 1 Axes>"
      ]
     },
     "metadata": {},
     "output_type": "display_data"
    }
   ],
   "source": [
    "x, y = val_dataset[\"caloParticleEnergy_perEvent\"].numpy(), superclsEnergy_ratio.numpy()\n",
    "p, cov = np.polyfit(x, y, 2, cov=True) \n",
    "t = scipy.stats.t.ppf(0.975, val_dataset[\"caloParticleEnergy_perEvent\"].shape[0] - p.size)    \n",
    "\n",
    "dof = x.shape[0] - p.size\n",
    "y_model = np.polyval(p, x) \n",
    "resid = y - y_model      \n",
    "s_err = np.sqrt(np.sum(resid**2) / dof) \n",
    "x2 = np.linspace(np.min(x), np.max(x), 100)\n",
    "y2 = np.polyval(p, x2)\n",
    "pi = t * s_err * np.sqrt(1 + 1/x.shape[0] + (x2 - np.mean(x))**2 / np.sum((x - np.mean(x))**2))   \n",
    "\n",
    "plt.scatter(x, y, s=1)\n",
    "\n",
    "\n",
    "plt.gca().fill_between(x2, y2 + pi, y2 - pi, color=\"None\", linestyle=\"--\")\n",
    "plt.gca().plot(x2, y2 - pi, \"--\", color=\"0.5\", label=\"95% Prediction Limits\")\n",
    "plt.gca().plot(x2, y2 + pi, \"--\", color=\"0.5\")\n"
   ]
  },
  {
   "cell_type": "code",
   "execution_count": 42,
   "metadata": {},
   "outputs": [],
   "source": [
    "y_sample = np.linspace(0, 2, 1000)"
   ]
  },
  {
   "cell_type": "code",
   "execution_count": 45,
   "metadata": {},
   "outputs": [
    {
     "data": {
      "text/plain": [
       "<numpy.broadcast at 0x55a758438cd0>"
      ]
     },
     "execution_count": 45,
     "metadata": {},
     "output_type": "execute_result"
    }
   ],
   "source": [
    "np.broadcast(1., y_sample)"
   ]
  },
  {
   "cell_type": "code",
   "execution_count": 54,
   "metadata": {},
   "outputs": [
    {
     "data": {
      "text/plain": [
       "(1.0255469586261234, 0.026483389011071487)"
      ]
     },
     "execution_count": 54,
     "metadata": {},
     "output_type": "execute_result"
    }
   ],
   "source": [
    "x_E = 800\n",
    "avg = np.average(y_sample, weights=kde(np.stack(np.broadcast_arrays(x_E, y_sample))))\n",
    "avg, np.sqrt(np.average((y_sample-avg)**2, weights=kde(np.stack(np.broadcast_arrays(x_E, y_sample)))))"
   ]
  },
  {
   "cell_type": "code",
   "execution_count": 31,
   "metadata": {},
   "outputs": [
    {
     "data": {
      "text/plain": [
       "<matplotlib.image.AxesImage at 0x7f2e3019b2d0>"
      ]
     },
     "execution_count": 31,
     "metadata": {},
     "output_type": "execute_result"
    },
    {
     "data": {
      "image/png": "[encoded data removed]",
      "text/plain": [
       "<Figure size 600x500 with 1 Axes>"
      ]
     },
     "metadata": {},
     "output_type": "display_data"
    }
   ],
   "source": [
    "plt.figure()\n",
    "kde = scipy.stats.gaussian_kde(np.stack([x, y]))\n",
    "X, Y = np.mgrid[0:800:100j, 0.5:1.6:100j]\n",
    "positions = np.vstack([X.ravel(), Y.ravel()])\n",
    "Z = np.reshape(kde(positions).T, X.shape)\n",
    "plt.ylim(0.5, 1.6)\n",
    "plt.xlim(0, 800)\n",
    "plt.imshow(np.rot90(Z), cmap=plt.cm.gist_earth_r,\n",
    "          extent=[0, 800, 0.5, 1.6])\n"
   ]
  },
  {
   "cell_type": "code",
   "execution_count": 33,
   "metadata": {},
   "outputs": [
    {
     "data": {
      "text/plain": [
       "<matplotlib.image.AxesImage at 0x7f2e300f7050>"
      ]
     },
     "execution_count": 33,
     "metadata": {},
     "output_type": "execute_result"
    },
    {
     "data": {
      "image/png": "[encoded data removed]",
      "text/plain": [
       "<Figure size 600x500 with 1 Axes>"
      ]
     },
     "metadata": {},
     "output_type": "display_data"
    }
   ],
   "source": [
    "plt.figure()\n",
    "plt.imshow(np.rot90(Z), cmap=plt.cm.gist_earth_r)"
   ]
  },
  {
   "cell_type": "code",
   "execution_count": 28,
   "metadata": {},
   "outputs": [
    {
     "data": {
      "text/plain": [
       "array([[2.26979936e-023, 1.51264446e-020, 5.71532494e-018, ...,\n",
       "        2.52425072e-007, 3.86627054e-007, 2.73487935e-006],\n",
       "       [3.40010231e-023, 2.26023565e-020, 8.51863726e-018, ...,\n",
       "        3.07015057e-007, 4.35398013e-007, 3.06037952e-006],\n",
       "       [4.82999718e-023, 3.20273461e-020, 1.20406435e-017, ...,\n",
       "        3.54365110e-007, 4.65139365e-007, 3.24765019e-006],\n",
       "       ...,\n",
       "       [1.15046114e-113, 6.01337680e-111, 1.78204864e-108, ...,\n",
       "        2.43863172e-100, 2.41836507e-102, 1.36044982e-104],\n",
       "       [1.00129686e-115, 5.22061489e-113, 1.54324591e-110, ...,\n",
       "        2.25204031e-102, 2.22773319e-104, 1.24991803e-106],\n",
       "       [8.26426296e-118, 4.29808771e-115, 1.26736319e-112, ...,\n",
       "        1.97222528e-104, 1.94605509e-106, 1.08904041e-108]])"
      ]
     },
     "execution_count": 28,
     "metadata": {},
     "output_type": "execute_result"
    }
   ],
   "source": [
    "Z"
   ]
  },
  {
   "cell_type": "code",
   "execution_count": 11,
   "metadata": {},
   "outputs": [
    {
     "data": {
      "text/plain": [
       "(array([  1.50000608,   2.21427965,   3.11312909,   4.44952669,\n",
       "          7.04064255, 112.21328735]),\n",
       " array([1.52112067, 2.28675771, 2.5121839 , 2.68080544, 3.12905979]))"
      ]
     },
     "execution_count": 11,
     "metadata": {},
     "output_type": "execute_result"
    }
   ],
   "source": [
    "def histedges_equalN(x, nbin):\n",
    "    npt = len(x)\n",
    "    return np.interp(np.linspace(0, npt, nbin + 1),\n",
    "                     np.arange(npt),\n",
    "                     np.sort(x))\n",
    "val_etas = val_dataset[:][\"features\"][0][:, 3] # index 3 is multi_eta\n",
    "val_energies = val_dataset[:][\"features\"][0][:, 2] # index 2 is multi_en\n",
    "ens = histedges_equalN(val_energies, 5)\n",
    "etas = histedges_equalN(torch.abs(val_etas), 4)\n",
    "ens, etas"
   ]
  },
  {
   "cell_type": "code",
   "execution_count": 10,
   "metadata": {},
   "outputs": [
    {
     "data": {
      "text/plain": [
       "array([  7.00000334,   8.19011784,   9.98443699,  13.35840893,\n",
       "       112.21328735])"
      ]
     },
     "execution_count": 10,
     "metadata": {},
     "output_type": "execute_result"
    }
   ],
   "source": [
    "histedges_equalN(val_energies[val_energies > 7], 4)"
   ]
  }
 ],
 "metadata": {
  "kernelspec": {
   "display_name": "ticlRegression-gpu",
   "language": "python",
   "name": "python3"
  },
  "language_info": {
   "codemirror_mode": {
    "name": "ipython",
    "version": 3
   },
   "file_extension": ".py",
   "mimetype": "text/x-python",
   "name": "python",
   "nbconvert_exporter": "python",
   "pygments_lexer": "ipython3",
   "version": "3.11.6"
  }
 },
 "nbformat": 4,
 "nbformat_minor": 2
}
