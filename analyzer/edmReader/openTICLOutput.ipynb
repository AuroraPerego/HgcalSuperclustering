{
 "cells": [
  {
   "cell_type": "code",
   "execution_count": 1,
   "metadata": {},
   "outputs": [],
   "source": [
    "import uproot"
   ]
  },
  {
   "cell_type": "code",
   "execution_count": 2,
   "metadata": {},
   "outputs": [],
   "source": [
    "f = uproot.open(filename)\n",
    "evts = f[\"Events\"]"
   ]
  },
  {
   "cell_type": "code",
   "execution_count": 13,
   "metadata": {},
   "outputs": [
    {
     "name": "stdout",
     "output_type": "stream",
     "text": [
      "name                                                                                                                                                   | typename                                           | interpretation                \n",
      "-------------------------------------------------------------------------------------------------------------------------------------------------------+----------------------------------------------------+-------------------------------\n",
      "CaloParticles_mix_MergedCaloTruth_HLT.                                                                                                                 | edm::Wrapper<vector<CaloParticle> >                | AsGroup(<TBranchElement 'Ca...\n",
      "CaloParticles_mix_MergedCaloTruth_HLT./CaloParticles_mix_MergedCaloTruth_HLT.obj                                                                       | unknown                                            | <UnknownInterpretation 'non...\n",
      "CaloParticles_mix_MergedCaloTruth_HLT./CaloParticles_mix_MergedCaloTruth_HLT.present                                                                   | bool                                               | AsDtype('bool')\n",
      "TICLCandidates_ticlTrackstersMerge__HLT.                                                                                                               | edm::Wrapper<vector<TICLCandidate> >               | AsGroup(<TBranchElement 'TI...\n",
      "TICLCandidates_ticlTrackstersMerge__HLT./TICLCandidates_ticlTrackstersMerge__HLT.obj                                                                   | unknown                                            | <UnknownInterpretation 'non...\n",
      "TICLCandidates_ticlTrackstersMerge__HLT./TICLCandidates_ticlTrackstersMerge__HLT.present                                                               | bool                                               | AsDtype('bool')\n",
      "floats_ticlTrackstersCLUE3DHigh__HLT.                                                                                                                  | edm::Wrapper<vector<float> >                       | AsGroup(<TBranchElement 'fl...\n",
      "floats_ticlTrackstersCLUE3DHigh__HLT./floats_ticlTrackstersCLUE3DHigh__HLT.obj                                                                         | unknown                                            | <UnknownInterpretation 'non...\n",
      "floats_ticlTrackstersCLUE3DHigh__HLT./floats_ticlTrackstersCLUE3DHigh__HLT.present                                                                     | bool                                               | AsDtype('bool')\n",
      "ticlTracksters_ticlTrackstersCLUE3DHigh__HLT.                                                                                                          | edm::Wrapper<vector<ticl::Trackster> >             | AsGroup(<TBranchElement 'ti...\n",
      "ticlTracksters_ticlTrackstersCLUE3DHigh__HLT./ticlTracksters_ticlTrackstersCLUE3DHigh__HLT.obj                                                         | unknown                                            | <UnknownInterpretation 'non...\n",
      "ticlTracksters_ticlTrackstersCLUE3DHigh__HLT./ticlTracksters_ticlTrackstersCLUE3DHigh__HLT.present                                                     | bool                                               | AsDtype('bool')\n",
      "ticlTracksters_ticlTrackstersMerge__HLT.                                                                                                               | edm::Wrapper<vector<ticl::Trackster> >             | AsGroup(<TBranchElement 'ti...\n",
      "ticlTracksters_ticlTrackstersMerge__HLT./ticlTracksters_ticlTrackstersMerge__HLT.obj                                                                   | unknown                                            | <UnknownInterpretation 'non...\n",
      "ticlTracksters_ticlTrackstersMerge__HLT./ticlTracksters_ticlTrackstersMerge__HLT.present                                                               | bool                                               | AsDtype('bool')\n",
      "uintuintsstdmap_ticlSimTracksters__RECO.                                                                                                               | edm::Wrapper<map<unsigned int,vector<unsigned i... | AsGroup(<TBranchElement 'ui...\n",
      "uintuintsstdmap_ticlSimTracksters__RECO./uintuintsstdmap_ticlSimTracksters__RECO.obj                                                                   | unknown                                            | <UnknownInterpretation 'non...\n",
      "uintuintsstdmap_ticlSimTracksters__RECO./uintuintsstdmap_ticlSimTracksters__RECO.present                                                               | bool                                               | AsDtype('bool')\n",
      "TICLCandidates_ticlTrackstersMerge__RECO.                                                                                                              | edm::Wrapper<vector<TICLCandidate> >               | AsGroup(<TBranchElement 'TI...\n",
      "TICLCandidates_ticlTrackstersMerge__RECO./TICLCandidates_ticlTrackstersMerge__RECO.obj                                                                 | unknown                                            | <UnknownInterpretation 'non...\n",
      "TICLCandidates_ticlTrackstersMerge__RECO./TICLCandidates_ticlTrackstersMerge__RECO.present                                                             | bool                                               | AsDtype('bool')\n",
      "floats_ticlSimTracksters__RECO.                                                                                                                        | edm::Wrapper<vector<float> >                       | AsGroup(<TBranchElement 'fl...\n",
      "floats_ticlSimTracksters__RECO./floats_ticlSimTracksters__RECO.obj                                                                                     | unknown                                            | <UnknownInterpretation 'non...\n",
      "floats_ticlSimTracksters__RECO./floats_ticlSimTracksters__RECO.present                                                                                 | bool                                               | AsDtype('bool')\n",
      "floats_ticlTrackstersCLUE3DHigh__RECO.                                                                                                                 | edm::Wrapper<vector<float> >                       | AsGroup(<TBranchElement 'fl...\n",
      "floats_ticlTrackstersCLUE3DHigh__RECO./floats_ticlTrackstersCLUE3DHigh__RECO.obj                                                                       | unknown                                            | <UnknownInterpretation 'non...\n",
      "floats_ticlTrackstersCLUE3DHigh__RECO./floats_ticlTrackstersCLUE3DHigh__RECO.present                                                                   | bool                                               | AsDtype('bool')\n",
      "floats_ticlSimTracksters_fromCPs_RECO.                                                                                                                 | edm::Wrapper<vector<float> >                       | AsGroup(<TBranchElement 'fl...\n",
      "floats_ticlSimTracksters_fromCPs_RECO./floats_ticlSimTracksters_fromCPs_RECO.obj                                                                       | unknown                                            | <UnknownInterpretation 'non...\n",
      "floats_ticlSimTracksters_fromCPs_RECO./floats_ticlSimTracksters_fromCPs_RECO.present                                                                   | bool                                               | AsDtype('bool')\n",
      "ulongss_ticlTrackstersSuperclustering_superclusteredTracksters_RECO.                                                                                   | edm::Wrapper<vector<vector<unsigned long> > >      | AsGroup(<TBranchElement 'ul...\n",
      "ulongss_ticlTrackstersSuperclustering_superclusteredTracksters_RECO./ulongss_ticlTrackstersSuperclustering_superclusteredTracksters_RECO.obj           | unknown                                            | <UnknownInterpretation 'non...\n",
      "ulongss_ticlTrackstersSuperclustering_superclusteredTracksters_RECO./ulongss_ticlTrackstersSuperclustering_superclusteredTracksters_RECO.present       | bool                                               | AsDtype('bool')\n",
      "ticlTracksters_ticlSimTracksters__RECO.                                                                                                                | edm::Wrapper<vector<ticl::Trackster> >             | AsGroup(<TBranchElement 'ti...\n",
      "ticlTracksters_ticlSimTracksters__RECO./ticlTracksters_ticlSimTracksters__RECO.obj                                                                     | unknown                                            | <UnknownInterpretation 'non...\n",
      "ticlTracksters_ticlSimTracksters__RECO./ticlTracksters_ticlSimTracksters__RECO.present                                                                 | bool                                               | AsDtype('bool')\n",
      "ticlTracksters_ticlTrackstersCLUE3DHigh__RECO.                                                                                                         | edm::Wrapper<vector<ticl::Trackster> >             | AsGroup(<TBranchElement 'ti...\n",
      "ticlTracksters_ticlTrackstersCLUE3DHigh__RECO./ticlTracksters_ticlTrackstersCLUE3DHigh__RECO.obj                                                       | unknown                                            | <UnknownInterpretation 'non...\n",
      "ticlTracksters_ticlTrackstersCLUE3DHigh__RECO./ticlTracksters_ticlTrackstersCLUE3DHigh__RECO.present                                                   | bool                                               | AsDtype('bool')\n",
      "ticlTracksters_ticlTrackstersMerge__RECO.                                                                                                              | edm::Wrapper<vector<ticl::Trackster> >             | AsGroup(<TBranchElement 'ti...\n",
      "ticlTracksters_ticlTrackstersMerge__RECO./ticlTracksters_ticlTrackstersMerge__RECO.obj                                                                 | unknown                                            | <UnknownInterpretation 'non...\n",
      "ticlTracksters_ticlTrackstersMerge__RECO./ticlTracksters_ticlTrackstersMerge__RECO.present                                                             | bool                                               | AsDtype('bool')\n",
      "ticlTracksters_ticlSimTracksters_fromCPs_RECO.                                                                                                         | edm::Wrapper<vector<ticl::Trackster> >             | AsGroup(<TBranchElement 'ti...\n",
      "ticlTracksters_ticlSimTracksters_fromCPs_RECO./ticlTracksters_ticlSimTracksters_fromCPs_RECO.obj                                                       | unknown                                            | <UnknownInterpretation 'non...\n",
      "ticlTracksters_ticlSimTracksters_fromCPs_RECO./ticlTracksters_ticlSimTracksters_fromCPs_RECO.present                                                   | bool                                               | AsDtype('bool')\n",
      "CaloParticlesrecoCaloClustersfloatfloatstdpairuintCaloParticlesedmRefProdrecoCaloClustersedmRefProdCaloParticlesCaloParticleCaloParticlesCaloPartic... | edm::Wrapper<edm::AssociationMap<edm::OneToMany... | AsGroup(<TBranchElement 'Ca...\n",
      "CaloParticlesrecoCaloClustersfloatfloatstdpairuintCaloParticlesedmRefProdrecoCaloClustersedmRefProdCaloParticlesCaloParticleCaloParticlesCaloPartic... | unknown                                            | <UnknownInterpretation 'non...\n",
      "CaloParticlesrecoCaloClustersfloatfloatstdpairuintCaloParticlesedmRefProdrecoCaloClustersedmRefProdCaloParticlesCaloParticleCaloParticlesCaloPartic... | bool                                               | AsDtype('bool')\n",
      "SimClustersrecoCaloClustersfloatfloatstdpairuintSimClustersedmRefProdrecoCaloClustersedmRefProdSimClustersSimClusterSimClustersSimClusteredmrefhelp... | edm::Wrapper<edm::AssociationMap<edm::OneToMany... | AsGroup(<TBranchElement 'Si...\n",
      "SimClustersrecoCaloClustersfloatfloatstdpairuintSimClustersedmRefProdrecoCaloClustersedmRefProdSimClustersSimClusterSimClustersSimClusteredmrefhelp... | unknown                                            | <UnknownInterpretation 'non...\n",
      "SimClustersrecoCaloClustersfloatfloatstdpairuintSimClustersedmRefProdrecoCaloClustersedmRefProdSimClustersSimClusterSimClustersSimClusteredmrefhelp... | bool                                               | AsDtype('bool')\n",
      "recoCaloClustersCaloParticlesfloatuintrecoCaloClustersedmRefProdCaloParticlesedmRefProdrecoCaloClustersrecoCaloClusterrecoCaloClustersrecoCaloClust... | edm::Wrapper<edm::AssociationMap<edm::OneToMany... | AsGroup(<TBranchElement 're...\n",
      "recoCaloClustersCaloParticlesfloatuintrecoCaloClustersedmRefProdCaloParticlesedmRefProdrecoCaloClustersrecoCaloClusterrecoCaloClustersrecoCaloClust... | unknown                                            | <UnknownInterpretation 'non...\n",
      "recoCaloClustersCaloParticlesfloatuintrecoCaloClustersedmRefProdCaloParticlesedmRefProdrecoCaloClustersrecoCaloClusterrecoCaloClustersrecoCaloClust... | bool                                               | AsDtype('bool')\n",
      "recoCaloClustersSimClustersfloatuintrecoCaloClustersedmRefProdSimClustersedmRefProdrecoCaloClustersrecoCaloClusterrecoCaloClustersrecoCaloClustered... | edm::Wrapper<edm::AssociationMap<edm::OneToMany... | AsGroup(<TBranchElement 're...\n",
      "recoCaloClustersSimClustersfloatuintrecoCaloClustersedmRefProdSimClustersedmRefProdrecoCaloClustersrecoCaloClusterrecoCaloClustersrecoCaloClustered... | unknown                                            | <UnknownInterpretation 'non...\n",
      "recoCaloClustersSimClustersfloatuintrecoCaloClustersedmRefProdSimClustersedmRefProdrecoCaloClustersrecoCaloClusterrecoCaloClustersrecoCaloClustered... | bool                                               | AsDtype('bool')\n",
      "floatfloatstdpairedmValueMap_hgcalMergeLayerClusters_timeLayerCluster_RECOticl.                                                                        | edm::Wrapper<edm::ValueMap<pair<float,float> > >   | AsGroup(<TBranchElement 'fl...\n",
      "floatfloatstdpairedmValueMap_hgcalMergeLayerClusters_timeLayerCluster_RECOticl./floatfloatstdpairedmValueMap_hgcalMergeLayerClusters_timeLayerClust... | unknown                                            | <UnknownInterpretation 'non...\n",
      "floatfloatstdpairedmValueMap_hgcalMergeLayerClusters_timeLayerCluster_RECOticl./floatfloatstdpairedmValueMap_hgcalMergeLayerClusters_timeLayerClust... | bool                                               | AsDtype('bool')\n",
      "TICLCandidates_ticlTrackstersMerge__RECOticl.                                                                                                          | edm::Wrapper<vector<TICLCandidate> >               | AsGroup(<TBranchElement 'TI...\n",
      "TICLCandidates_ticlTrackstersMerge__RECOticl./TICLCandidates_ticlTrackstersMerge__RECOticl.obj                                                         | unknown                                            | <UnknownInterpretation 'non...\n",
      "TICLCandidates_ticlTrackstersMerge__RECOticl./TICLCandidates_ticlTrackstersMerge__RECOticl.present                                                     | bool                                               | AsDtype('bool')\n",
      "floats_ticlTrackstersCLUE3DHigh__RECOticl.                                                                                                             | edm::Wrapper<vector<float> >                       | AsGroup(<TBranchElement 'fl...\n",
      "floats_ticlTrackstersCLUE3DHigh__RECOticl./floats_ticlTrackstersCLUE3DHigh__RECOticl.obj                                                               | unknown                                            | <UnknownInterpretation 'non...\n",
      "floats_ticlTrackstersCLUE3DHigh__RECOticl./floats_ticlTrackstersCLUE3DHigh__RECOticl.present                                                           | bool                                               | AsDtype('bool')\n",
      "floats_hgcalMergeLayerClusters_InitialLayerClustersMask_RECOticl.                                                                                      | edm::Wrapper<vector<float> >                       | AsGroup(<TBranchElement 'fl...\n",
      "floats_hgcalMergeLayerClusters_InitialLayerClustersMask_RECOticl./floats_hgcalMergeLayerClusters_InitialLayerClustersMask_RECOticl.obj                 | unknown                                            | <UnknownInterpretation 'non...\n",
      "floats_hgcalMergeLayerClusters_InitialLayerClustersMask_RECOticl./floats_hgcalMergeLayerClusters_InitialLayerClustersMask_RECOticl.present             | bool                                               | AsDtype('bool')\n",
      "recoCaloClusters_hgcalMergeLayerClusters__RECOticl.                                                                                                    | edm::Wrapper<vector<reco::CaloCluster> >           | AsGroup(<TBranchElement 're...\n",
      "recoCaloClusters_hgcalMergeLayerClusters__RECOticl./recoCaloClusters_hgcalMergeLayerClusters__RECOticl.obj                                             | unknown                                            | <UnknownInterpretation 'non...\n",
      "recoCaloClusters_hgcalMergeLayerClusters__RECOticl./recoCaloClusters_hgcalMergeLayerClusters__RECOticl.present                                         | bool                                               | AsDtype('bool')\n",
      "recoCaloClusters_hgcalMergeLayerClusters_sharing_RECOticl.                                                                                             | edm::Wrapper<vector<reco::CaloCluster> >           | AsGroup(<TBranchElement 're...\n",
      "recoCaloClusters_hgcalMergeLayerClusters_sharing_RECOticl./recoCaloClusters_hgcalMergeLayerClusters_sharing_RECOticl.obj                               | unknown                                            | <UnknownInterpretation 'non...\n",
      "recoCaloClusters_hgcalMergeLayerClusters_sharing_RECOticl./recoCaloClusters_hgcalMergeLayerClusters_sharing_RECOticl.present                           | bool                                               | AsDtype('bool')\n",
      "ulongss_ticlTrackstersSuperclustering_superclusteredTracksters_RECOticl.                                                                               | edm::Wrapper<vector<vector<unsigned long> > >      | AsGroup(<TBranchElement 'ul...\n",
      "ulongss_ticlTrackstersSuperclustering_superclusteredTracksters_RECOticl./ulongss_ticlTrackstersSuperclustering_superclusteredTracksters_RECOticl.obj   | unknown                                            | <UnknownInterpretation 'non...\n",
      "ulongss_ticlTrackstersSuperclustering_superclusteredTracksters_RECOticl./ulongss_ticlTrackstersSuperclustering_superclusteredTracksters_RECOticl.pr... | bool                                               | AsDtype('bool')\n",
      "ticlTracksters_ticlTrackstersCLUE3DHigh__RECOticl.                                                                                                     | edm::Wrapper<vector<ticl::Trackster> >             | AsGroup(<TBranchElement 'ti...\n",
      "ticlTracksters_ticlTrackstersCLUE3DHigh__RECOticl./ticlTracksters_ticlTrackstersCLUE3DHigh__RECOticl.obj                                               | unknown                                            | <UnknownInterpretation 'non...\n",
      "ticlTracksters_ticlTrackstersCLUE3DHigh__RECOticl./ticlTracksters_ticlTrackstersCLUE3DHigh__RECOticl.present                                           | bool                                               | AsDtype('bool')\n",
      "ticlTracksters_ticlTrackstersMerge__RECOticl.                                                                                                          | edm::Wrapper<vector<ticl::Trackster> >             | AsGroup(<TBranchElement 'ti...\n",
      "ticlTracksters_ticlTrackstersMerge__RECOticl./ticlTracksters_ticlTrackstersMerge__RECOticl.obj                                                         | unknown                                            | <UnknownInterpretation 'non...\n",
      "ticlTracksters_ticlTrackstersMerge__RECOticl./ticlTracksters_ticlTrackstersMerge__RECOticl.present                                                     | bool                                               | AsDtype('bool')\n"
     ]
    }
   ],
   "source": [
    "evts.show(filter_name=\"*ticl*\", name_width=150, typename_width=50)"
   ]
  },
  {
   "cell_type": "code",
   "execution_count": 16,
   "metadata": {},
   "outputs": [
    {
     "data": {
      "text/plain": [
       "{'@fUniqueID': 0,\n",
       " '@fBits': 55574528,\n",
       " 'fName': 'ulongss_ticlTrackstersSuperclustering_superclusteredTracksters_RECOticl.obj',\n",
       " 'fTitle': 'ulongss_ticlTrackstersSuperclustering_superclusteredTracksters_RECOticl.obj',\n",
       " 'fFillColor': 0,\n",
       " 'fFillStyle': 1001,\n",
       " 'fCompress': 504,\n",
       " 'fBasketSize': 15518,\n",
       " 'fEntryOffsetLen': 10,\n",
       " 'fWriteBasket': 4,\n",
       " 'fEntryNumber': 100,\n",
       " 'fIOFeatures': <ROOT::TIOFeatures at 0x7f31c9d68e20>,\n",
       " 'fOffset': 0,\n",
       " 'fMaxBaskets': 10,\n",
       " 'fSplitLevel': 0,\n",
       " 'fEntries': 100,\n",
       " 'fFirstEntry': 0,\n",
       " 'fTotBytes': 4852,\n",
       " 'fZipBytes': 1240,\n",
       " 'fBranches': <TObjArray of 0 items at 0x7f31c9d68e50>,\n",
       " 'fLeaves': <TObjArray of 1 items at 0x7f31c9d68fd0>,\n",
       " 'fBasketBytes': array([366, 318, 354, 202,   0,   0,   0,   0,   0,   0], dtype=int32),\n",
       " 'fBasketEntry': array([  0,  33,  66,  99, 100,   0,   0,   0,   0,   0]),\n",
       " 'fBasketSeek': array([21500561, 43484901, 66222045, 71119149,        0,        0,\n",
       "               0,        0,        0,        0]),\n",
       " 'fClassName': <TString 'edm::Wrapper<vector<vector<unsigned long> > >' at 0x7f31c9d5f890>,\n",
       " 'fParentName': <TString 'edm::Wrapper<vector<vector<unsigned long> > >' at 0x7f31c9d5f900>,\n",
       " 'fClonesName': <TString '' at 0x7f31c9d5f970>,\n",
       " 'fCheckSum': 2475519715,\n",
       " 'fClassVersion': 4,\n",
       " 'fID': 1,\n",
       " 'fType': 0,\n",
       " 'fStreamerType': 300,\n",
       " 'fMaximum': 0,\n",
       " 'fBranchCount': None,\n",
       " 'fBranchCount2': None}"
      ]
     },
     "execution_count": 16,
     "metadata": {},
     "output_type": "execute_result"
    }
   ],
   "source": [
    "evts[\"ulongss_ticlTrackstersSuperclustering_superclusteredTracksters_RECOticl./ulongss_ticlTrackstersSuperclustering_superclusteredTracksters_RECOticl.obj\"].all_members"
   ]
  },
  {
   "cell_type": "code",
   "execution_count": 17,
   "metadata": {},
   "outputs": [],
   "source": [
    "import ROOT\n",
    "from DataFormats.FWLite import Events, Handle"
   ]
  },
  {
   "cell_type": "code",
   "execution_count": 42,
   "metadata": {},
   "outputs": [],
   "source": [
    "events = Events(filename)"
   ]
  },
  {
   "cell_type": "code",
   "execution_count": 43,
   "metadata": {},
   "outputs": [],
   "source": [
    "handle = Handle(\"vector<vector<unsigned long>>\")"
   ]
  },
  {
   "cell_type": "code",
   "execution_count": 44,
   "metadata": {},
   "outputs": [
    {
     "data": {
      "text/plain": [
       "<DataFormats.FWLite.Events at 0x7f31a1fedc40>"
      ]
     },
     "execution_count": 44,
     "metadata": {},
     "output_type": "execute_result"
    }
   ],
   "source": [
    "evt = next(iter(events))\n",
    "evt"
   ]
  },
  {
   "cell_type": "code",
   "execution_count": 45,
   "metadata": {},
   "outputs": [
    {
     "data": {
      "text/plain": [
       "True"
      ]
     },
     "execution_count": 45,
     "metadata": {},
     "output_type": "execute_result"
    }
   ],
   "source": [
    "evt.getByLabel(\"ticlTrackstersSuperclustering\", \"superclusteredTracksters\", handle)"
   ]
  },
  {
   "cell_type": "code",
   "execution_count": 46,
   "metadata": {},
   "outputs": [
    {
     "name": "stdout",
     "output_type": "stream",
     "text": [
      "{ { 1, 0, 2 } }\n",
      "{ { 1, 0 } }\n",
      "{ { 1, 0 } }\n",
      "{ { 0, 1, 2 } }\n",
      "{ { 0, 1 } }\n",
      "{ { 0, 1 } }\n",
      "{ { 1, 0 } }\n",
      "{ { 1, 0 } }\n",
      "{ { 1, 0 } }\n",
      "{ { 0, 1 } }\n",
      "{ { 1, 0 } }\n",
      "{ { 0, 1 } }\n",
      "{ { 1, 0, 2 } }\n",
      "{ { 0, 1 } }\n",
      "{ { 1, 0 } }\n",
      "{ { 0, 1 } }\n",
      "{ { 1, 0 } }\n",
      "{ { 1, 0 } }\n",
      "{ { 1, 0 } }\n",
      "{ { 0, 1 } }\n",
      "{ { 1, 0 } }\n",
      "{ { 0, 1, 2 } }\n",
      "{ { 0, 1, 2, 3 } }\n",
      "{ { 2, 0, 1, 5, 6, 7 }, { 4, 2 }, { 3 } }\n",
      "{ { 1, 0, 2 } }\n",
      "{ { 0, 1 } }\n",
      "{ { 1, 0, 2 } }\n",
      "{ { 1, 0 } }\n",
      "{ { 1, 0 } }\n",
      "{ { 1, 0 } }\n",
      "{ { 0, 1 } }\n",
      "{ { 0, 1 } }\n",
      "{ { 1, 0, 2 } }\n",
      "{ { 1, 0 } }\n",
      "{ { 1, 0 } }\n",
      "{ { 0, 1 }, { 2, 0 } }\n",
      "{ { 0, 1, 2 } }\n",
      "{ { 1, 0 } }\n",
      "{ { 0, 1 } }\n",
      "{ { 1, 0 } }\n",
      "{ { 1, 0 } }\n",
      "{ { 1, 0 }, { 2, 1 } }\n",
      "{ { 1, 0 } }\n",
      "{ { 1, 0 } }\n",
      "{ { 1, 0, 2 } }\n",
      "{ { 0, 1 } }\n",
      "{ { 1, 0 } }\n",
      "{ { 1, 0 } }\n",
      "{ { 1, 0 } }\n",
      "{ { 1, 0 } }\n",
      "{ { 1, 0, 2 } }\n",
      "{ { 0, 1 } }\n",
      "{ { 1, 0 } }\n",
      "{ { 0, 1 } }\n",
      "{ { 0, 1, 2 } }\n",
      "{ { 0, 1 } }\n",
      "{ { 1, 0 } }\n",
      "{ { 0, 1 } }\n",
      "{ { 1, 0 } }\n",
      "{ { 1, 0 } }\n",
      "{ { 0, 1 } }\n",
      "{ { 1, 0, 2 } }\n",
      "{ { 0, 1 } }\n",
      "{ { 1, 0, 2 } }\n",
      "{ { 1, 0 } }\n",
      "{ { 1, 0 } }\n",
      "{ { 1, 0, 2 } }\n",
      "{ { 1 }, { 0 } }\n",
      "{ { 0, 1 } }\n",
      "{ { 1, 0 } }\n",
      "{ { 1, 0, 2, 3 } }\n",
      "{ { 0, 1 } }\n",
      "{ { 1, 0, 2 } }\n",
      "{ { 1, 0 } }\n",
      "{ { 1, 0 } }\n",
      "{ { 0, 1 } }\n",
      "{ { 0, 1 } }\n",
      "{ { 1, 0 } }\n",
      "{ { 1, 0 } }\n",
      "{ { 1, 0 } }\n",
      "{ { 2, 0, 1 } }\n",
      "{ { 3, 0, 1, 2 }, { 4, 3 } }\n",
      "{ { 0, 1 } }\n",
      "{ { 0, 1 } }\n",
      "{ { 1, 0 } }\n",
      "{ { 1, 0 } }\n",
      "{ { 1, 0, 2 } }\n",
      "{ { 1, 0 } }\n",
      "{ { 1, 0 } }\n",
      "{ { 1, 0, 2, 3 } }\n",
      "{ { 1, 0 } }\n",
      "{ { 0, 1 } }\n",
      "{ { 1, 0 } }\n",
      "{ { 1, 0 } }\n",
      "{ { 2, 0, 1 } }\n",
      "{ { 0, 1 } }\n",
      "{ { 0, 1, 2 } }\n",
      "{ { 0, 1 } }\n",
      "{ { 1, 0 } }\n",
      "{ { 1, 0, 2 } }\n"
     ]
    }
   ],
   "source": [
    "for evt in events:\n",
    "    evt.getByLabel(\"ticlTrackstersSuperclustering\", \"superclusteredTracksters\", \"RECOticl\", handle)\n",
    "    print(handle.product())"
   ]
  },
  {
   "cell_type": "code",
   "execution_count": null,
   "metadata": {},
   "outputs": [],
   "source": []
  }
 ],
 "metadata": {
  "kernelspec": {
   "display_name": "el8_amd64_gcc11",
   "language": "python",
   "name": "python3"
  },
  "language_info": {
   "codemirror_mode": {
    "name": "ipython",
    "version": 3
   },
   "file_extension": ".py",
   "mimetype": "text/x-python",
   "name": "python",
   "nbconvert_exporter": "python",
   "pygments_lexer": "ipython3",
   "version": "3.9.14"
  },
  "orig_nbformat": 4
 },
 "nbformat": 4,
 "nbformat_minor": 2
}
