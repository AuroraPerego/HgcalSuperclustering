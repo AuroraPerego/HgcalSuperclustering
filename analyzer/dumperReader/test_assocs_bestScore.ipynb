{
 "cells": [
  {
   "cell_type": "code",
   "execution_count": 13,
   "metadata": {},
   "outputs": [
    {
     "name": "stdout",
     "output_type": "stream",
     "text": [
      "1.10.3\n",
      "The autoreload extension is already loaded. To reload it, use:\n",
      "  %reload_ext autoreload\n"
     ]
    }
   ],
   "source": [
    "%load_ext autoreload\n",
    "%autoreload 2\n",
    "import uproot\n",
    "import numpy as np\n",
    "import awkward as ak\n",
    "import matplotlib.pyplot as plt\n",
    "import mplhep as hep\n",
    "import hist\n",
    "\n",
    "import sys\n",
    "sys.path.append(\"../..\")\n",
    "from analyzer.dumperReader.reader import *"
   ]
  },
  {
   "cell_type": "code",
   "execution_count": 14,
   "metadata": {},
   "outputs": [],
   "source": [
    "reader = DumperReader(\"/eos/user/a/aperego/SampleProduction/TICLv5/ParticleGunPionPU/histo/histo_5835901_99.root\") #\"../runs_results/histo.root:ticlDumper\")"
   ]
  },
  {
   "cell_type": "code",
   "execution_count": 19,
   "metadata": {},
   "outputs": [
    {
     "data": {
      "text/plain": [
       "<Array [1303, 163] type='2 * int32'>"
      ]
     },
     "execution_count": 19,
     "metadata": {},
     "output_type": "execute_result"
    }
   ],
   "source": [
    "a = reader.simCandidates[0].simTICLCandidate_track_in_candidate\n",
    "a"
   ]
  },
  {
   "cell_type": "code",
   "execution_count": 19,
   "metadata": {},
   "outputs": [
    {
     "data": {
      "text/plain": [
       "True"
      ]
     },
     "execution_count": 19,
     "metadata": {},
     "output_type": "execute_result"
    }
   ],
   "source": [
    "(ak.all(b == ak.sort(b)))"
   ]
  },
  {
   "cell_type": "code",
   "execution_count": 8,
   "metadata": {},
   "outputs": [],
   "source": [
    "dropOnes=True\n",
    "self=reader"
   ]
  },
  {
   "cell_type": "code",
   "execution_count": 9,
   "metadata": {},
   "outputs": [
    {
     "ename": "AttributeError",
     "evalue": "module 'awkward' has no attribute 'drop_none'",
     "output_type": "error",
     "traceback": [
      "\u001b[0;31m---------------------------------------------------------------------------\u001b[0m",
      "\u001b[0;31mAttributeError\u001b[0m                            Traceback (most recent call last)",
      "\u001b[0;32m/tmp/ipykernel_2072/3750010485.py\u001b[0m in \u001b[0;36m<module>\u001b[0;34m\u001b[0m\n\u001b[0;32m----> 1\u001b[0;31m \u001b[0massocs\u001b[0m \u001b[0;34m=\u001b[0m \u001b[0massocs_bestScore\u001b[0m\u001b[0;34m(\u001b[0m\u001b[0;34m(\u001b[0m\u001b[0massocs_dropOnes\u001b[0m \u001b[0;32mif\u001b[0m \u001b[0mdropOnes\u001b[0m \u001b[0;32melse\u001b[0m \u001b[0;32mlambda\u001b[0m \u001b[0mx\u001b[0m\u001b[0;34m:\u001b[0m\u001b[0mx\u001b[0m\u001b[0;34m)\u001b[0m\u001b[0;34m(\u001b[0m\u001b[0massocs_zip_recoToSim\u001b[0m\u001b[0;34m(\u001b[0m\u001b[0mself\u001b[0m\u001b[0;34m.\u001b[0m\u001b[0massociations\u001b[0m\u001b[0;34m)\u001b[0m\u001b[0;34m)\u001b[0m\u001b[0;34m)\u001b[0m\u001b[0;34m\u001b[0m\u001b[0;34m\u001b[0m\u001b[0m\n\u001b[0m\u001b[1;32m      2\u001b[0m \u001b[0massocs\u001b[0m\u001b[0;34m\u001b[0m\u001b[0;34m\u001b[0m\u001b[0m\n",
      "\u001b[0;32m/eos/home-i01/a/aperego/HgcalSuperclustering/analyzer/dumperReader/../../analyzer/dumperReader/assocs.py\u001b[0m in \u001b[0;36massocs_bestScore\u001b[0;34m(assocs_zipped)\u001b[0m\n\u001b[1;32m    178\u001b[0m     \u001b[0;31m# Take the first assoc, putting None in case a trackster has no assocation\u001b[0m\u001b[0;34m\u001b[0m\u001b[0;34m\u001b[0m\u001b[0m\n\u001b[1;32m    179\u001b[0m     \u001b[0;31m# Then drop the None\u001b[0m\u001b[0;34m\u001b[0m\u001b[0;34m\u001b[0m\u001b[0m\n\u001b[0;32m--> 180\u001b[0;31m     \u001b[0;32mreturn\u001b[0m \u001b[0mak\u001b[0m\u001b[0;34m.\u001b[0m\u001b[0mdrop_none\u001b[0m\u001b[0;34m(\u001b[0m\u001b[0mak\u001b[0m\u001b[0;34m.\u001b[0m\u001b[0mfirsts\u001b[0m\u001b[0;34m(\u001b[0m\u001b[0massocs_zipped\u001b[0m\u001b[0;34m[\u001b[0m\u001b[0midx_sort\u001b[0m\u001b[0;34m]\u001b[0m\u001b[0;34m,\u001b[0m \u001b[0maxis\u001b[0m\u001b[0;34m=\u001b[0m\u001b[0;34m-\u001b[0m\u001b[0;36m1\u001b[0m\u001b[0;34m)\u001b[0m\u001b[0;34m,\u001b[0m \u001b[0maxis\u001b[0m\u001b[0;34m=\u001b[0m\u001b[0;34m-\u001b[0m\u001b[0;36m1\u001b[0m\u001b[0;34m)\u001b[0m\u001b[0;34m\u001b[0m\u001b[0;34m\u001b[0m\u001b[0m\n\u001b[0m\u001b[1;32m    181\u001b[0m \u001b[0;34m\u001b[0m\u001b[0m\n\u001b[1;32m    182\u001b[0m \u001b[0;34m\u001b[0m\u001b[0m\n",
      "\u001b[0;31mAttributeError\u001b[0m: module 'awkward' has no attribute 'drop_none'"
     ]
    }
   ],
   "source": [
    "assocs = assocs_bestScore((assocs_dropOnes if dropOnes else lambda x:x)(assocs_zip_recoToSim(self.associations)))\n",
    "assocs"
   ]
  },
  {
   "cell_type": "code",
   "execution_count": null,
   "metadata": {},
   "outputs": [],
   "source": []
  },
  {
   "cell_type": "code",
   "execution_count": 6,
   "metadata": {},
   "outputs": [
    {
     "data": {
      "text/html": [
       "<pre>[[{simts_id: 0, ts_id: 558, score: 0.0688, sharedE: 196}, {...}],\n",
       " [{simts_id: 0, ts_id: 736, score: 0.308, sharedE: 137}, {...}],\n",
       " [{simts_id: 0, ts_id: 757, score: 0.555, sharedE: 66.5}, {...}],\n",
       " [{simts_id: 0, ts_id: 776, score: 0.415, sharedE: 203}, {...}],\n",
       " [{simts_id: 0, ts_id: 766, score: 0.0131, sharedE: 285}, {...}],\n",
       " [{simts_id: 0, ts_id: 768, score: 0.681, sharedE: 1.72}, {...}],\n",
       " [{simts_id: 0, ts_id: 972, score: 0.486, sharedE: 133}, {...}],\n",
       " [{simts_id: 0, ts_id: 750, score: 0.458, sharedE: 77.4}, {...}],\n",
       " [{simts_id: 0, ts_id: 963, score: 0.306, sharedE: 18.9}, {...}],\n",
       " [{simts_id: 0, ts_id: 904, score: 0.449, sharedE: 203}, {...}],\n",
       " ...,\n",
       " [{simts_id: 0, ts_id: 406, score: 0.46, sharedE: 9.57}, {...}],\n",
       " [{simts_id: 0, ts_id: 549, score: 0.00304, sharedE: 357}, {...}],\n",
       " [{simts_id: 0, ts_id: 790, score: 0.459, sharedE: 165}, {...}],\n",
       " [{simts_id: 0, ts_id: 660, score: 0.449, sharedE: 152}, {...}],\n",
       " [{simts_id: 0, ts_id: 590, score: 0.543, sharedE: 37.6}, {...}],\n",
       " [{simts_id: 0, ts_id: 1006, score: 0.515, sharedE: 31.7}, {...}],\n",
       " [{simts_id: 0, ts_id: 572, score: 0.434, sharedE: 107}, {...}],\n",
       " [{simts_id: 0, ts_id: 749, score: 0.225, sharedE: 214}, {...}],\n",
       " [{simts_id: 0, ts_id: 767, score: 0.6, sharedE: 92.2}, {...}]]\n",
       "------------------------------------------------------------------\n",
       "type: 100 * var * {\n",
       "    simts_id: int64,\n",
       "    ts_id: uint32,\n",
       "    score: float32,\n",
       "    sharedE: float32\n",
       "}</pre>"
      ],
      "text/plain": [
       "<Array [[{simts_id: 0, ...}, {...}], ...] type='100 * var * {simts_id: int6...'>"
      ]
     },
     "execution_count": 6,
     "metadata": {},
     "output_type": "execute_result"
    }
   ],
   "source": [
    "assocs_simToReco_largestScore = assocs_bestScore(assocs_zip_simToReco(self.associations))\n",
    "assocs_simToReco_largestScore"
   ]
  }
 ],
 "metadata": {
  "kernelspec": {
   "display_name": "Python 3",
   "language": "python",
   "name": "python3"
  },
  "language_info": {
   "codemirror_mode": {
    "name": "ipython",
    "version": 3
   },
   "file_extension": ".py",
   "mimetype": "text/x-python",
   "name": "python",
   "nbconvert_exporter": "python",
   "pygments_lexer": "ipython3",
   "version": "3.9.12"
  }
 },
 "nbformat": 4,
 "nbformat_minor": 4
}
