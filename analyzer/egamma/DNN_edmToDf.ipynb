{
 "cells": [
  {
   "cell_type": "markdown",
   "metadata": {},
   "source": [
    "Make dataframes out of EDM files (step3) with DNN output"
   ]
  },
  {
   "cell_type": "code",
   "execution_count": 5,
   "metadata": {},
   "outputs": [
    {
     "name": "stdout",
     "output_type": "stream",
     "text": [
      "The autoreload extension is already loaded. To reload it, use:\n",
      "  %reload_ext autoreload\n"
     ]
    }
   ],
   "source": [
    "%load_ext autoreload\n",
    "%autoreload 1\n",
    "import ROOT\n",
    "import JupyROOT.helpers.utils\n",
    "JupyROOT.helpers.utils.GetGeometryDrawer = lambda:None\n",
    "import cppyy\n",
    "from DataFormats.FWLite import Handle\n",
    "import hist\n",
    "import matplotlib.pyplot as plt\n",
    "import mplhep as hep\n",
    "plt.style.use(hep.style.CMS)\n",
    "import pandas as pd\n",
    "import sys\n",
    "sys.path.append(\"..\")\n",
    "#import edmReader.pythonizations\n",
    "%aimport edmReader.edmReader\n",
    "from edmReader.edmReader import EdmReader, MultiEdmReader\n",
    "from edmReader.edmReader import *\n",
    "from pathlib import Path"
   ]
  },
  {
   "cell_type": "code",
   "execution_count": 8,
   "metadata": {},
   "outputs": [],
   "source": [
    "files = {ntuple : f\"/grid_mnt/data_cms_upgrade/cuisset/supercls/alessandro_electrons/supercls-v14-dnn/step3_DNN_{ntuple}.root\" for ntuple in range(1, 31)}"
   ]
  },
  {
   "cell_type": "code",
   "execution_count": 9,
   "metadata": {},
   "outputs": [
    {
     "name": "stderr",
     "output_type": "stream",
     "text": [
      "cling::DynamicLibraryManager::loadLibrary(): libnvidia-ml.so.1: cannot open shared object file: No such file or directory\n",
      "Error in <TInterpreter::TCling::AutoLoad>: failure loading library libTrackingToolsGsfTracking.so for edm::Wrapper<edm::AssociationMap<edm::OneToOne<vector<Trajectory>,vector<reco::GsfTrack>,unsigned short> > >\n",
      "cling::DynamicLibraryManager::loadLibrary(): libnvidia-ml.so.1: cannot open shared object file: No such file or directory\n",
      "Error in <TInterpreter::TCling::AutoLoad>: failure loading library libTrackingToolsGsfTracking.so for edm::AssociationMap<edm::OneToOne<vector<Trajectory>,vector<reco::GsfTrack>,unsigned short> >\n",
      "cling::DynamicLibraryManager::loadLibrary(): libnvidia-ml.so.1: cannot open shared object file: No such file or directory\n",
      "Error in <TInterpreter::TCling::AutoLoad>: failure loading library libTrackingToolsGsfTracking.so for edm::helpers::KeyVal<edm::RefProd<vector<Trajectory> >,edm::RefProd<vector<reco::GsfTrack> > >\n",
      "cling::DynamicLibraryManager::loadLibrary(): libnvidia-ml.so.1: cannot open shared object file: No such file or directory\n",
      "Error in <TInterpreter::TCling::AutoLoad>: failure loading library libTrackingToolsGsfTracking.so for edm::Wrapper<edm::AssociationMap<edm::OneToOne<vector<Trajectory>,vector<reco::GsfTrack>,unsigned short> > >\n",
      "cling::DynamicLibraryManager::loadLibrary(): libnvidia-ml.so.1: cannot open shared object file: No such file or directory\n",
      "Error in <TInterpreter::TCling::AutoLoad>: failure loading library libTrackingToolsGsfTracking.so for edm::AssociationMap<edm::OneToOne<vector<Trajectory>,vector<reco::GsfTrack>,unsigned short> >\n",
      "cling::DynamicLibraryManager::loadLibrary(): libnvidia-ml.so.1: cannot open shared object file: No such file or directory\n",
      "Error in <TInterpreter::TCling::AutoLoad>: failure loading library libTrackingToolsGsfTracking.so for edm::helpers::KeyVal<edm::RefProd<vector<Trajectory> >,edm::RefProd<vector<reco::GsfTrack> > >\n",
      "cling::DynamicLibraryManager::loadLibrary(): libnvidia-ml.so.1: cannot open shared object file: No such file or directory\n",
      "Error in <TInterpreter::TCling::AutoLoad>: failure loading library libTrackingToolsGsfTracking.so for edm::Wrapper<edm::AssociationMap<edm::OneToOne<vector<Trajectory>,vector<reco::GsfTrack>,unsigned short> > >\n",
      "cling::DynamicLibraryManager::loadLibrary(): libnvidia-ml.so.1: cannot open shared object file: No such file or directory\n",
      "Error in <TInterpreter::TCling::AutoLoad>: failure loading library libTrackingToolsGsfTracking.so for edm::AssociationMap<edm::OneToOne<vector<Trajectory>,vector<reco::GsfTrack>,unsigned short> >\n",
      "cling::DynamicLibraryManager::loadLibrary(): libnvidia-ml.so.1: cannot open shared object file: No such file or directory\n",
      "Error in <TInterpreter::TCling::AutoLoad>: failure loading library libTrackingToolsGsfTracking.so for edm::helpers::KeyVal<edm::RefProd<vector<Trajectory> >,edm::RefProd<vector<reco::GsfTrack> > >\n",
      "cling::DynamicLibraryManager::loadLibrary(): libnvidia-ml.so.1: cannot open shared object file: No such file or directory\n",
      "Error in <TInterpreter::TCling::AutoLoad>: failure loading library libTrackingToolsGsfTracking.so for edm::Wrapper<edm::AssociationMap<edm::OneToOne<vector<Trajectory>,vector<reco::GsfTrack>,unsigned short> > >\n",
      "cling::DynamicLibraryManager::loadLibrary(): libnvidia-ml.so.1: cannot open shared object file: No such file or directory\n",
      "Error in <TInterpreter::TCling::AutoLoad>: failure loading library libTrackingToolsGsfTracking.so for edm::AssociationMap<edm::OneToOne<vector<Trajectory>,vector<reco::GsfTrack>,unsigned short> >\n",
      "cling::DynamicLibraryManager::loadLibrary(): libnvidia-ml.so.1: cannot open shared object file: No such file or directory\n",
      "Error in <TInterpreter::TCling::AutoLoad>: failure loading library libTrackingToolsGsfTracking.so for edm::helpers::KeyVal<edm::RefProd<vector<Trajectory> >,edm::RefProd<vector<reco::GsfTrack> > >\n",
      "cling::DynamicLibraryManager::loadLibrary(): libnvidia-ml.so.1: cannot open shared object file: No such file or directory\n",
      "Error in <TInterpreter::TCling::AutoLoad>: failure loading library libTrackingToolsGsfTracking.so for edm::Wrapper<edm::AssociationMap<edm::OneToOne<vector<Trajectory>,vector<reco::GsfTrack>,unsigned short> > >\n",
      "cling::DynamicLibraryManager::loadLibrary(): libnvidia-ml.so.1: cannot open shared object file: No such file or directory\n",
      "Error in <TInterpreter::TCling::AutoLoad>: failure loading library libTrackingToolsGsfTracking.so for edm::AssociationMap<edm::OneToOne<vector<Trajectory>,vector<reco::GsfTrack>,unsigned short> >\n",
      "cling::DynamicLibraryManager::loadLibrary(): libnvidia-ml.so.1: cannot open shared object file: No such file or directory\n",
      "Error in <TInterpreter::TCling::AutoLoad>: failure loading library libTrackingToolsGsfTracking.so for edm::helpers::KeyVal<edm::RefProd<vector<Trajectory> >,edm::RefProd<vector<reco::GsfTrack> > >\n",
      "cling::DynamicLibraryManager::loadLibrary(): libnvidia-ml.so.1: cannot open shared object file: No such file or directory\n",
      "Error in <TInterpreter::TCling::AutoLoad>: failure loading library libTrackingToolsGsfTracking.so for edm::Wrapper<edm::AssociationMap<edm::OneToOne<vector<Trajectory>,vector<reco::GsfTrack>,unsigned short> > >\n",
      "cling::DynamicLibraryManager::loadLibrary(): libnvidia-ml.so.1: cannot open shared object file: No such file or directory\n",
      "Error in <TInterpreter::TCling::AutoLoad>: failure loading library libTrackingToolsGsfTracking.so for edm::AssociationMap<edm::OneToOne<vector<Trajectory>,vector<reco::GsfTrack>,unsigned short> >\n",
      "cling::DynamicLibraryManager::loadLibrary(): libnvidia-ml.so.1: cannot open shared object file: No such file or directory\n",
      "Error in <TInterpreter::TCling::AutoLoad>: failure loading library libTrackingToolsGsfTracking.so for edm::helpers::KeyVal<edm::RefProd<vector<Trajectory> >,edm::RefProd<vector<reco::GsfTrack> > >\n"
     ]
    }
   ],
   "source": [
    "for ntuple, file in files.items():\n",
    "    events = EdmReader(file)\n",
    "    maker = SuperclsDataframeMaker()\n",
    "    for evt in events:\n",
    "        maker.processEvent(evt, 1)\n",
    "    maker.makeDf().to_pickle(Path(file).parent /  \"dataframes\" / f\"supercls_{ntuple}.pkl.gz\")"
   ]
  }
 ],
 "metadata": {
  "kernelspec": {
   "display_name": "slc7_amd64_gcc12",
   "language": "python",
   "name": "python3"
  },
  "language_info": {
   "codemirror_mode": {
    "name": "ipython",
    "version": 3
   },
   "file_extension": ".py",
   "mimetype": "text/x-python",
   "name": "python",
   "nbconvert_exporter": "python",
   "pygments_lexer": "ipython3",
   "version": "3.9.14"
  }
 },
 "nbformat": 4,
 "nbformat_minor": 2
}
