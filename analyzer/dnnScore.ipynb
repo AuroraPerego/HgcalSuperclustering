{
 "cells": [
  {
   "cell_type": "code",
   "execution_count": 1,
   "metadata": {},
   "outputs": [],
   "source": [
    "%load_ext autoreload\n",
    "%autoreload 2\n",
    "import sys\n",
    "sys.path.append(\"..\")\n",
    "\n",
    "import uproot\n",
    "import numpy as np\n",
    "import awkward as ak\n",
    "import pandas as pd\n",
    "import matplotlib.pyplot as plt\n",
    "import mplhep as hep\n",
    "plt.style.use(hep.style.CMS)\n",
    "import hist\n",
    "\n",
    "from analyzer.driver.fileTools import *\n",
    "from analyzer.driver.computations import *"
   ]
  },
  {
   "cell_type": "code",
   "execution_count": 5,
   "metadata": {},
   "outputs": [],
   "source": [
    "dumperInput = DumperInputManager([\"/data_cms_upgrade/cuisset/supercls/alessandro_electrons/reco-v1/\", \"/data_cms_upgrade/cuisset/supercls/alessandro_electrons/supercls-v9/\"], \n",
    "                                limitFileCount=5, restrictToAvailableDumperTypes=[DumperType.TICL, DumperType.TICLsupercls]\n",
    "                                )"
   ]
  },
  {
   "cell_type": "code",
   "execution_count": 6,
   "metadata": {},
   "outputs": [
    {
     "data": {
      "text/plain": [
       "['superclusteredTracksters',\n",
       " 'superclusteredTrackstersAll',\n",
       " 'superclusteringDNNScore',\n",
       " 'superclusteringDNNScore/superclusteringDNNScore._2',\n",
       " 'superclusteringDNNScore/superclusteringDNNScore._1',\n",
       " 'superclusteringDNNScore/superclusteringDNNScore._0']"
      ]
     },
     "execution_count": 6,
     "metadata": {},
     "output_type": "execute_result"
    }
   ],
   "source": [
    "reader = dumperInput.inputPerSample[7].ticlDumperReader\n",
    "reader.fileDir[\"superclustering\"].keys()"
   ]
  },
  {
   "cell_type": "code",
   "execution_count": 8,
   "metadata": {},
   "outputs": [
    {
     "data": {
      "text/html": [
       "<pre>[{&#x27;superclusteringDNNScore._2&#x27;: [], &#x27;superclusteringDNNScore._1&#x27;: [], ...},\n",
       " {&#x27;superclusteringDNNScore._2&#x27;: [], &#x27;superclusteringDNNScore._1&#x27;: [], ...},\n",
       " {&#x27;superclusteringDNNScore._2&#x27;: [], &#x27;superclusteringDNNScore._1&#x27;: [], ...},\n",
       " {&#x27;superclusteringDNNScore._2&#x27;: [], &#x27;superclusteringDNNScore._1&#x27;: [], ...},\n",
       " {&#x27;superclusteringDNNScore._2&#x27;: [], &#x27;superclusteringDNNScore._1&#x27;: [], ...},\n",
       " {&#x27;superclusteringDNNScore._2&#x27;: [], &#x27;superclusteringDNNScore._1&#x27;: [], ...},\n",
       " {&#x27;superclusteringDNNScore._2&#x27;: [], &#x27;superclusteringDNNScore._1&#x27;: [], ...},\n",
       " {&#x27;superclusteringDNNScore._2&#x27;: [], &#x27;superclusteringDNNScore._1&#x27;: [], ...},\n",
       " {&#x27;superclusteringDNNScore._2&#x27;: [], &#x27;superclusteringDNNScore._1&#x27;: [], ...},\n",
       " {&#x27;superclusteringDNNScore._2&#x27;: [], &#x27;superclusteringDNNScore._1&#x27;: [], ...},\n",
       " ...,\n",
       " {&#x27;superclusteringDNNScore._2&#x27;: [], &#x27;superclusteringDNNScore._1&#x27;: [], ...},\n",
       " {&#x27;superclusteringDNNScore._2&#x27;: [], &#x27;superclusteringDNNScore._1&#x27;: [], ...},\n",
       " {&#x27;superclusteringDNNScore._2&#x27;: [], &#x27;superclusteringDNNScore._1&#x27;: [], ...},\n",
       " {&#x27;superclusteringDNNScore._2&#x27;: [], &#x27;superclusteringDNNScore._1&#x27;: [], ...},\n",
       " {&#x27;superclusteringDNNScore._2&#x27;: [], &#x27;superclusteringDNNScore._1&#x27;: [], ...},\n",
       " {&#x27;superclusteringDNNScore._2&#x27;: [], &#x27;superclusteringDNNScore._1&#x27;: [], ...},\n",
       " {&#x27;superclusteringDNNScore._2&#x27;: [], &#x27;superclusteringDNNScore._1&#x27;: [], ...},\n",
       " {&#x27;superclusteringDNNScore._2&#x27;: [], &#x27;superclusteringDNNScore._1&#x27;: [], ...},\n",
       " {&#x27;superclusteringDNNScore._2&#x27;: [], &#x27;superclusteringDNNScore._1&#x27;: [], ...}]\n",
       "---------------------------------------------------------------------------\n",
       "type: 100 * {\n",
       "    &quot;superclusteringDNNScore._2&quot;: var * uint16,\n",
       "    &quot;superclusteringDNNScore._1&quot;: var * uint32,\n",
       "    &quot;superclusteringDNNScore._0&quot;: var * uint32\n",
       "}</pre>"
      ],
      "text/plain": [
       "<Array [{...}, {...}, {...}, ..., {...}, {...}] type='100 * {\"superclusteri...'>"
      ]
     },
     "execution_count": 8,
     "metadata": {},
     "output_type": "execute_result"
    }
   ],
   "source": [
    "reader.superclusteringDnnScore"
   ]
  },
  {
   "cell_type": "code",
   "execution_count": null,
   "metadata": {},
   "outputs": [],
   "source": []
  }
 ],
 "metadata": {
  "kernelspec": {
   "display_name": "modules-python-3.11",
   "language": "python",
   "name": "python3"
  },
  "language_info": {
   "codemirror_mode": {
    "name": "ipython",
    "version": 3
   },
   "file_extension": ".py",
   "mimetype": "text/x-python",
   "name": "python",
   "nbconvert_exporter": "python",
   "pygments_lexer": "ipython3",
   "version": "3.11.6"
  }
 },
 "nbformat": 4,
 "nbformat_minor": 2
}
